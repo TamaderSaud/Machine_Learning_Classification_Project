{
  "nbformat": 4,
  "nbformat_minor": 0,
  "metadata": {
    "colab": {
      "name": "Classification_Project.ipynb",
      "provenance": [],
      "collapsed_sections": []
    },
    "kernelspec": {
      "display_name": "Python 3",
      "name": "python3"
    }
  },
  "cells": [
    {
      "cell_type": "markdown",
      "metadata": {
        "id": "-wC52DwJLMHc"
      },
      "source": [
        "## Classification Project"
      ]
    },
    {
      "cell_type": "markdown",
      "metadata": {
        "id": "cQMf9q3TahrK"
      },
      "source": [
        "classification of mushrooms, based on many features."
      ]
    },
    {
      "cell_type": "markdown",
      "metadata": {
        "id": "mFVBwhQLLAa0"
      },
      "source": [
        "## Imports"
      ]
    },
    {
      "cell_type": "code",
      "metadata": {
        "id": "OsQgf5aAKy8X"
      },
      "source": [
        "import pandas as pd\n",
        "import numpy as np\n",
        "from sklearn.model_selection import cross_val_score, train_test_split\n",
        "from sklearn.linear_model import LinearRegression, Lasso, LassoCV, RidgeCV,  Ridge, LogisticRegression\n",
        "from sklearn.metrics import precision_score, recall_score, accuracy_score, roc_auc_score, confusion_matrix, f1_score\n",
        "from sklearn.ensemble import RandomForestClassifier, ExtraTreesClassifier, VotingClassifier, StackingClassifier\n",
        "from sklearn import neighbors\n",
        "from mlxtend.classifier import StackingClassifier\n",
        "import seaborn as sns\n",
        "import matplotlib.pyplot as plt\n",
        "from sklearn.preprocessing import LabelEncoder\n",
        "from sklearn.metrics import classification_report,  precision_recall_curve, auc, roc_curve\n",
        "from sklearn.tree import DecisionTreeClassifier, export_graphviz\n",
        "import graphviz\n",
        "from sklearn.neighbors import KNeighborsClassifier\n",
        "from sklearn.svm import SVC\n",
        "from sklearn.model_selection import GridSearchCV\n",
        "from sklearn.model_selection import StratifiedShuffleSplit\n",
        "from sklearn.naive_bayes import GaussianNB\n",
        "from xgboost import XGBClassifier\n",
        "from sklearn.feature_extraction.text import TfidfVectorizer\n",
        "from sklearn.feature_extraction.text import CountVectorizer "
      ],
      "execution_count": 73,
      "outputs": []
    },
    {
      "cell_type": "markdown",
      "metadata": {
        "id": "0Q0jwSuxKfXC"
      },
      "source": [
        "## Reading Data"
      ]
    },
    {
      "cell_type": "code",
      "metadata": {
        "id": "Tu_q9-_9KjRc"
      },
      "source": [
        "df_mushroom = pd.read_csv('mushrooms.csv')"
      ],
      "execution_count": 74,
      "outputs": []
    },
    {
      "cell_type": "markdown",
      "metadata": {
        "id": "wrxPph0wXwmR"
      },
      "source": [
        "## EDA"
      ]
    },
    {
      "cell_type": "code",
      "metadata": {
        "colab": {
          "base_uri": "https://localhost:8080/"
        },
        "id": "70LJreXtW5mL",
        "outputId": "e4f257de-6eb5-4ecd-8881-fd6881fe1aea"
      },
      "source": [
        "df_mushroom.shape"
      ],
      "execution_count": 75,
      "outputs": [
        {
          "output_type": "execute_result",
          "data": {
            "text/plain": [
              "(8124, 23)"
            ]
          },
          "metadata": {},
          "execution_count": 75
        }
      ]
    },
    {
      "cell_type": "code",
      "metadata": {
        "colab": {
          "base_uri": "https://localhost:8080/",
          "height": 278
        },
        "id": "6FwAuuDMLXGn",
        "outputId": "e4f547a7-1609-4efc-d910-ea727ab42250"
      },
      "source": [
        "df_mushroom.head()"
      ],
      "execution_count": 76,
      "outputs": [
        {
          "output_type": "execute_result",
          "data": {
            "text/html": [
              "<div>\n",
              "<style scoped>\n",
              "    .dataframe tbody tr th:only-of-type {\n",
              "        vertical-align: middle;\n",
              "    }\n",
              "\n",
              "    .dataframe tbody tr th {\n",
              "        vertical-align: top;\n",
              "    }\n",
              "\n",
              "    .dataframe thead th {\n",
              "        text-align: right;\n",
              "    }\n",
              "</style>\n",
              "<table border=\"1\" class=\"dataframe\">\n",
              "  <thead>\n",
              "    <tr style=\"text-align: right;\">\n",
              "      <th></th>\n",
              "      <th>class</th>\n",
              "      <th>cap-shape</th>\n",
              "      <th>cap-surface</th>\n",
              "      <th>cap-color</th>\n",
              "      <th>bruises</th>\n",
              "      <th>odor</th>\n",
              "      <th>gill-attachment</th>\n",
              "      <th>gill-spacing</th>\n",
              "      <th>gill-size</th>\n",
              "      <th>gill-color</th>\n",
              "      <th>stalk-shape</th>\n",
              "      <th>stalk-root</th>\n",
              "      <th>stalk-surface-above-ring</th>\n",
              "      <th>stalk-surface-below-ring</th>\n",
              "      <th>stalk-color-above-ring</th>\n",
              "      <th>stalk-color-below-ring</th>\n",
              "      <th>veil-type</th>\n",
              "      <th>veil-color</th>\n",
              "      <th>ring-number</th>\n",
              "      <th>ring-type</th>\n",
              "      <th>spore-print-color</th>\n",
              "      <th>population</th>\n",
              "      <th>habitat</th>\n",
              "    </tr>\n",
              "  </thead>\n",
              "  <tbody>\n",
              "    <tr>\n",
              "      <th>0</th>\n",
              "      <td>p</td>\n",
              "      <td>x</td>\n",
              "      <td>s</td>\n",
              "      <td>n</td>\n",
              "      <td>t</td>\n",
              "      <td>p</td>\n",
              "      <td>f</td>\n",
              "      <td>c</td>\n",
              "      <td>n</td>\n",
              "      <td>k</td>\n",
              "      <td>e</td>\n",
              "      <td>e</td>\n",
              "      <td>s</td>\n",
              "      <td>s</td>\n",
              "      <td>w</td>\n",
              "      <td>w</td>\n",
              "      <td>p</td>\n",
              "      <td>w</td>\n",
              "      <td>o</td>\n",
              "      <td>p</td>\n",
              "      <td>k</td>\n",
              "      <td>s</td>\n",
              "      <td>u</td>\n",
              "    </tr>\n",
              "    <tr>\n",
              "      <th>1</th>\n",
              "      <td>e</td>\n",
              "      <td>x</td>\n",
              "      <td>s</td>\n",
              "      <td>y</td>\n",
              "      <td>t</td>\n",
              "      <td>a</td>\n",
              "      <td>f</td>\n",
              "      <td>c</td>\n",
              "      <td>b</td>\n",
              "      <td>k</td>\n",
              "      <td>e</td>\n",
              "      <td>c</td>\n",
              "      <td>s</td>\n",
              "      <td>s</td>\n",
              "      <td>w</td>\n",
              "      <td>w</td>\n",
              "      <td>p</td>\n",
              "      <td>w</td>\n",
              "      <td>o</td>\n",
              "      <td>p</td>\n",
              "      <td>n</td>\n",
              "      <td>n</td>\n",
              "      <td>g</td>\n",
              "    </tr>\n",
              "    <tr>\n",
              "      <th>2</th>\n",
              "      <td>e</td>\n",
              "      <td>b</td>\n",
              "      <td>s</td>\n",
              "      <td>w</td>\n",
              "      <td>t</td>\n",
              "      <td>l</td>\n",
              "      <td>f</td>\n",
              "      <td>c</td>\n",
              "      <td>b</td>\n",
              "      <td>n</td>\n",
              "      <td>e</td>\n",
              "      <td>c</td>\n",
              "      <td>s</td>\n",
              "      <td>s</td>\n",
              "      <td>w</td>\n",
              "      <td>w</td>\n",
              "      <td>p</td>\n",
              "      <td>w</td>\n",
              "      <td>o</td>\n",
              "      <td>p</td>\n",
              "      <td>n</td>\n",
              "      <td>n</td>\n",
              "      <td>m</td>\n",
              "    </tr>\n",
              "    <tr>\n",
              "      <th>3</th>\n",
              "      <td>p</td>\n",
              "      <td>x</td>\n",
              "      <td>y</td>\n",
              "      <td>w</td>\n",
              "      <td>t</td>\n",
              "      <td>p</td>\n",
              "      <td>f</td>\n",
              "      <td>c</td>\n",
              "      <td>n</td>\n",
              "      <td>n</td>\n",
              "      <td>e</td>\n",
              "      <td>e</td>\n",
              "      <td>s</td>\n",
              "      <td>s</td>\n",
              "      <td>w</td>\n",
              "      <td>w</td>\n",
              "      <td>p</td>\n",
              "      <td>w</td>\n",
              "      <td>o</td>\n",
              "      <td>p</td>\n",
              "      <td>k</td>\n",
              "      <td>s</td>\n",
              "      <td>u</td>\n",
              "    </tr>\n",
              "    <tr>\n",
              "      <th>4</th>\n",
              "      <td>e</td>\n",
              "      <td>x</td>\n",
              "      <td>s</td>\n",
              "      <td>g</td>\n",
              "      <td>f</td>\n",
              "      <td>n</td>\n",
              "      <td>f</td>\n",
              "      <td>w</td>\n",
              "      <td>b</td>\n",
              "      <td>k</td>\n",
              "      <td>t</td>\n",
              "      <td>e</td>\n",
              "      <td>s</td>\n",
              "      <td>s</td>\n",
              "      <td>w</td>\n",
              "      <td>w</td>\n",
              "      <td>p</td>\n",
              "      <td>w</td>\n",
              "      <td>o</td>\n",
              "      <td>e</td>\n",
              "      <td>n</td>\n",
              "      <td>a</td>\n",
              "      <td>g</td>\n",
              "    </tr>\n",
              "  </tbody>\n",
              "</table>\n",
              "</div>"
            ],
            "text/plain": [
              "  class cap-shape cap-surface  ... spore-print-color population habitat\n",
              "0     p         x           s  ...                 k          s       u\n",
              "1     e         x           s  ...                 n          n       g\n",
              "2     e         b           s  ...                 n          n       m\n",
              "3     p         x           y  ...                 k          s       u\n",
              "4     e         x           s  ...                 n          a       g\n",
              "\n",
              "[5 rows x 23 columns]"
            ]
          },
          "metadata": {},
          "execution_count": 76
        }
      ]
    },
    {
      "cell_type": "code",
      "metadata": {
        "colab": {
          "base_uri": "https://localhost:8080/"
        },
        "id": "qrpZoIEMXItp",
        "outputId": "0cf832bc-19f9-40f6-e83d-158828b9c3d4"
      },
      "source": [
        "df_mushroom.dtypes"
      ],
      "execution_count": 77,
      "outputs": [
        {
          "output_type": "execute_result",
          "data": {
            "text/plain": [
              "class                       object\n",
              "cap-shape                   object\n",
              "cap-surface                 object\n",
              "cap-color                   object\n",
              "bruises                     object\n",
              "odor                        object\n",
              "gill-attachment             object\n",
              "gill-spacing                object\n",
              "gill-size                   object\n",
              "gill-color                  object\n",
              "stalk-shape                 object\n",
              "stalk-root                  object\n",
              "stalk-surface-above-ring    object\n",
              "stalk-surface-below-ring    object\n",
              "stalk-color-above-ring      object\n",
              "stalk-color-below-ring      object\n",
              "veil-type                   object\n",
              "veil-color                  object\n",
              "ring-number                 object\n",
              "ring-type                   object\n",
              "spore-print-color           object\n",
              "population                  object\n",
              "habitat                     object\n",
              "dtype: object"
            ]
          },
          "metadata": {},
          "execution_count": 77
        }
      ]
    },
    {
      "cell_type": "code",
      "metadata": {
        "colab": {
          "base_uri": "https://localhost:8080/"
        },
        "id": "f0eF_zDELnRX",
        "outputId": "39f7577a-b48a-40ec-c7bd-c6cf14698be5"
      },
      "source": [
        "df_mushroom.info()"
      ],
      "execution_count": 78,
      "outputs": [
        {
          "output_type": "stream",
          "name": "stdout",
          "text": [
            "<class 'pandas.core.frame.DataFrame'>\n",
            "RangeIndex: 8124 entries, 0 to 8123\n",
            "Data columns (total 23 columns):\n",
            " #   Column                    Non-Null Count  Dtype \n",
            "---  ------                    --------------  ----- \n",
            " 0   class                     8124 non-null   object\n",
            " 1   cap-shape                 8124 non-null   object\n",
            " 2   cap-surface               8124 non-null   object\n",
            " 3   cap-color                 8124 non-null   object\n",
            " 4   bruises                   8124 non-null   object\n",
            " 5   odor                      8124 non-null   object\n",
            " 6   gill-attachment           8124 non-null   object\n",
            " 7   gill-spacing              8124 non-null   object\n",
            " 8   gill-size                 8124 non-null   object\n",
            " 9   gill-color                8124 non-null   object\n",
            " 10  stalk-shape               8124 non-null   object\n",
            " 11  stalk-root                8124 non-null   object\n",
            " 12  stalk-surface-above-ring  8124 non-null   object\n",
            " 13  stalk-surface-below-ring  8124 non-null   object\n",
            " 14  stalk-color-above-ring    8124 non-null   object\n",
            " 15  stalk-color-below-ring    8124 non-null   object\n",
            " 16  veil-type                 8124 non-null   object\n",
            " 17  veil-color                8124 non-null   object\n",
            " 18  ring-number               8124 non-null   object\n",
            " 19  ring-type                 8124 non-null   object\n",
            " 20  spore-print-color         8124 non-null   object\n",
            " 21  population                8124 non-null   object\n",
            " 22  habitat                   8124 non-null   object\n",
            "dtypes: object(23)\n",
            "memory usage: 1.4+ MB\n"
          ]
        }
      ]
    },
    {
      "cell_type": "code",
      "metadata": {
        "colab": {
          "base_uri": "https://localhost:8080/"
        },
        "id": "7K7S0znSMSgV",
        "outputId": "351dd2d3-1d56-4adc-93d7-5d02d028c1ae"
      },
      "source": [
        "df_mushroom.isnull().sum()"
      ],
      "execution_count": 79,
      "outputs": [
        {
          "output_type": "execute_result",
          "data": {
            "text/plain": [
              "class                       0\n",
              "cap-shape                   0\n",
              "cap-surface                 0\n",
              "cap-color                   0\n",
              "bruises                     0\n",
              "odor                        0\n",
              "gill-attachment             0\n",
              "gill-spacing                0\n",
              "gill-size                   0\n",
              "gill-color                  0\n",
              "stalk-shape                 0\n",
              "stalk-root                  0\n",
              "stalk-surface-above-ring    0\n",
              "stalk-surface-below-ring    0\n",
              "stalk-color-above-ring      0\n",
              "stalk-color-below-ring      0\n",
              "veil-type                   0\n",
              "veil-color                  0\n",
              "ring-number                 0\n",
              "ring-type                   0\n",
              "spore-print-color           0\n",
              "population                  0\n",
              "habitat                     0\n",
              "dtype: int64"
            ]
          },
          "metadata": {},
          "execution_count": 79
        }
      ]
    },
    {
      "cell_type": "code",
      "metadata": {
        "colab": {
          "base_uri": "https://localhost:8080/",
          "height": 495
        },
        "id": "CJK5eChmXiVQ",
        "outputId": "81a5e58a-b16c-410c-97aa-c4fe415bf4db"
      },
      "source": [
        "df_mushroom.drop_duplicates()"
      ],
      "execution_count": 80,
      "outputs": [
        {
          "output_type": "execute_result",
          "data": {
            "text/html": [
              "<div>\n",
              "<style scoped>\n",
              "    .dataframe tbody tr th:only-of-type {\n",
              "        vertical-align: middle;\n",
              "    }\n",
              "\n",
              "    .dataframe tbody tr th {\n",
              "        vertical-align: top;\n",
              "    }\n",
              "\n",
              "    .dataframe thead th {\n",
              "        text-align: right;\n",
              "    }\n",
              "</style>\n",
              "<table border=\"1\" class=\"dataframe\">\n",
              "  <thead>\n",
              "    <tr style=\"text-align: right;\">\n",
              "      <th></th>\n",
              "      <th>class</th>\n",
              "      <th>cap-shape</th>\n",
              "      <th>cap-surface</th>\n",
              "      <th>cap-color</th>\n",
              "      <th>bruises</th>\n",
              "      <th>odor</th>\n",
              "      <th>gill-attachment</th>\n",
              "      <th>gill-spacing</th>\n",
              "      <th>gill-size</th>\n",
              "      <th>gill-color</th>\n",
              "      <th>stalk-shape</th>\n",
              "      <th>stalk-root</th>\n",
              "      <th>stalk-surface-above-ring</th>\n",
              "      <th>stalk-surface-below-ring</th>\n",
              "      <th>stalk-color-above-ring</th>\n",
              "      <th>stalk-color-below-ring</th>\n",
              "      <th>veil-type</th>\n",
              "      <th>veil-color</th>\n",
              "      <th>ring-number</th>\n",
              "      <th>ring-type</th>\n",
              "      <th>spore-print-color</th>\n",
              "      <th>population</th>\n",
              "      <th>habitat</th>\n",
              "    </tr>\n",
              "  </thead>\n",
              "  <tbody>\n",
              "    <tr>\n",
              "      <th>0</th>\n",
              "      <td>p</td>\n",
              "      <td>x</td>\n",
              "      <td>s</td>\n",
              "      <td>n</td>\n",
              "      <td>t</td>\n",
              "      <td>p</td>\n",
              "      <td>f</td>\n",
              "      <td>c</td>\n",
              "      <td>n</td>\n",
              "      <td>k</td>\n",
              "      <td>e</td>\n",
              "      <td>e</td>\n",
              "      <td>s</td>\n",
              "      <td>s</td>\n",
              "      <td>w</td>\n",
              "      <td>w</td>\n",
              "      <td>p</td>\n",
              "      <td>w</td>\n",
              "      <td>o</td>\n",
              "      <td>p</td>\n",
              "      <td>k</td>\n",
              "      <td>s</td>\n",
              "      <td>u</td>\n",
              "    </tr>\n",
              "    <tr>\n",
              "      <th>1</th>\n",
              "      <td>e</td>\n",
              "      <td>x</td>\n",
              "      <td>s</td>\n",
              "      <td>y</td>\n",
              "      <td>t</td>\n",
              "      <td>a</td>\n",
              "      <td>f</td>\n",
              "      <td>c</td>\n",
              "      <td>b</td>\n",
              "      <td>k</td>\n",
              "      <td>e</td>\n",
              "      <td>c</td>\n",
              "      <td>s</td>\n",
              "      <td>s</td>\n",
              "      <td>w</td>\n",
              "      <td>w</td>\n",
              "      <td>p</td>\n",
              "      <td>w</td>\n",
              "      <td>o</td>\n",
              "      <td>p</td>\n",
              "      <td>n</td>\n",
              "      <td>n</td>\n",
              "      <td>g</td>\n",
              "    </tr>\n",
              "    <tr>\n",
              "      <th>2</th>\n",
              "      <td>e</td>\n",
              "      <td>b</td>\n",
              "      <td>s</td>\n",
              "      <td>w</td>\n",
              "      <td>t</td>\n",
              "      <td>l</td>\n",
              "      <td>f</td>\n",
              "      <td>c</td>\n",
              "      <td>b</td>\n",
              "      <td>n</td>\n",
              "      <td>e</td>\n",
              "      <td>c</td>\n",
              "      <td>s</td>\n",
              "      <td>s</td>\n",
              "      <td>w</td>\n",
              "      <td>w</td>\n",
              "      <td>p</td>\n",
              "      <td>w</td>\n",
              "      <td>o</td>\n",
              "      <td>p</td>\n",
              "      <td>n</td>\n",
              "      <td>n</td>\n",
              "      <td>m</td>\n",
              "    </tr>\n",
              "    <tr>\n",
              "      <th>3</th>\n",
              "      <td>p</td>\n",
              "      <td>x</td>\n",
              "      <td>y</td>\n",
              "      <td>w</td>\n",
              "      <td>t</td>\n",
              "      <td>p</td>\n",
              "      <td>f</td>\n",
              "      <td>c</td>\n",
              "      <td>n</td>\n",
              "      <td>n</td>\n",
              "      <td>e</td>\n",
              "      <td>e</td>\n",
              "      <td>s</td>\n",
              "      <td>s</td>\n",
              "      <td>w</td>\n",
              "      <td>w</td>\n",
              "      <td>p</td>\n",
              "      <td>w</td>\n",
              "      <td>o</td>\n",
              "      <td>p</td>\n",
              "      <td>k</td>\n",
              "      <td>s</td>\n",
              "      <td>u</td>\n",
              "    </tr>\n",
              "    <tr>\n",
              "      <th>4</th>\n",
              "      <td>e</td>\n",
              "      <td>x</td>\n",
              "      <td>s</td>\n",
              "      <td>g</td>\n",
              "      <td>f</td>\n",
              "      <td>n</td>\n",
              "      <td>f</td>\n",
              "      <td>w</td>\n",
              "      <td>b</td>\n",
              "      <td>k</td>\n",
              "      <td>t</td>\n",
              "      <td>e</td>\n",
              "      <td>s</td>\n",
              "      <td>s</td>\n",
              "      <td>w</td>\n",
              "      <td>w</td>\n",
              "      <td>p</td>\n",
              "      <td>w</td>\n",
              "      <td>o</td>\n",
              "      <td>e</td>\n",
              "      <td>n</td>\n",
              "      <td>a</td>\n",
              "      <td>g</td>\n",
              "    </tr>\n",
              "    <tr>\n",
              "      <th>...</th>\n",
              "      <td>...</td>\n",
              "      <td>...</td>\n",
              "      <td>...</td>\n",
              "      <td>...</td>\n",
              "      <td>...</td>\n",
              "      <td>...</td>\n",
              "      <td>...</td>\n",
              "      <td>...</td>\n",
              "      <td>...</td>\n",
              "      <td>...</td>\n",
              "      <td>...</td>\n",
              "      <td>...</td>\n",
              "      <td>...</td>\n",
              "      <td>...</td>\n",
              "      <td>...</td>\n",
              "      <td>...</td>\n",
              "      <td>...</td>\n",
              "      <td>...</td>\n",
              "      <td>...</td>\n",
              "      <td>...</td>\n",
              "      <td>...</td>\n",
              "      <td>...</td>\n",
              "      <td>...</td>\n",
              "    </tr>\n",
              "    <tr>\n",
              "      <th>8119</th>\n",
              "      <td>e</td>\n",
              "      <td>k</td>\n",
              "      <td>s</td>\n",
              "      <td>n</td>\n",
              "      <td>f</td>\n",
              "      <td>n</td>\n",
              "      <td>a</td>\n",
              "      <td>c</td>\n",
              "      <td>b</td>\n",
              "      <td>y</td>\n",
              "      <td>e</td>\n",
              "      <td>?</td>\n",
              "      <td>s</td>\n",
              "      <td>s</td>\n",
              "      <td>o</td>\n",
              "      <td>o</td>\n",
              "      <td>p</td>\n",
              "      <td>o</td>\n",
              "      <td>o</td>\n",
              "      <td>p</td>\n",
              "      <td>b</td>\n",
              "      <td>c</td>\n",
              "      <td>l</td>\n",
              "    </tr>\n",
              "    <tr>\n",
              "      <th>8120</th>\n",
              "      <td>e</td>\n",
              "      <td>x</td>\n",
              "      <td>s</td>\n",
              "      <td>n</td>\n",
              "      <td>f</td>\n",
              "      <td>n</td>\n",
              "      <td>a</td>\n",
              "      <td>c</td>\n",
              "      <td>b</td>\n",
              "      <td>y</td>\n",
              "      <td>e</td>\n",
              "      <td>?</td>\n",
              "      <td>s</td>\n",
              "      <td>s</td>\n",
              "      <td>o</td>\n",
              "      <td>o</td>\n",
              "      <td>p</td>\n",
              "      <td>n</td>\n",
              "      <td>o</td>\n",
              "      <td>p</td>\n",
              "      <td>b</td>\n",
              "      <td>v</td>\n",
              "      <td>l</td>\n",
              "    </tr>\n",
              "    <tr>\n",
              "      <th>8121</th>\n",
              "      <td>e</td>\n",
              "      <td>f</td>\n",
              "      <td>s</td>\n",
              "      <td>n</td>\n",
              "      <td>f</td>\n",
              "      <td>n</td>\n",
              "      <td>a</td>\n",
              "      <td>c</td>\n",
              "      <td>b</td>\n",
              "      <td>n</td>\n",
              "      <td>e</td>\n",
              "      <td>?</td>\n",
              "      <td>s</td>\n",
              "      <td>s</td>\n",
              "      <td>o</td>\n",
              "      <td>o</td>\n",
              "      <td>p</td>\n",
              "      <td>o</td>\n",
              "      <td>o</td>\n",
              "      <td>p</td>\n",
              "      <td>b</td>\n",
              "      <td>c</td>\n",
              "      <td>l</td>\n",
              "    </tr>\n",
              "    <tr>\n",
              "      <th>8122</th>\n",
              "      <td>p</td>\n",
              "      <td>k</td>\n",
              "      <td>y</td>\n",
              "      <td>n</td>\n",
              "      <td>f</td>\n",
              "      <td>y</td>\n",
              "      <td>f</td>\n",
              "      <td>c</td>\n",
              "      <td>n</td>\n",
              "      <td>b</td>\n",
              "      <td>t</td>\n",
              "      <td>?</td>\n",
              "      <td>s</td>\n",
              "      <td>k</td>\n",
              "      <td>w</td>\n",
              "      <td>w</td>\n",
              "      <td>p</td>\n",
              "      <td>w</td>\n",
              "      <td>o</td>\n",
              "      <td>e</td>\n",
              "      <td>w</td>\n",
              "      <td>v</td>\n",
              "      <td>l</td>\n",
              "    </tr>\n",
              "    <tr>\n",
              "      <th>8123</th>\n",
              "      <td>e</td>\n",
              "      <td>x</td>\n",
              "      <td>s</td>\n",
              "      <td>n</td>\n",
              "      <td>f</td>\n",
              "      <td>n</td>\n",
              "      <td>a</td>\n",
              "      <td>c</td>\n",
              "      <td>b</td>\n",
              "      <td>y</td>\n",
              "      <td>e</td>\n",
              "      <td>?</td>\n",
              "      <td>s</td>\n",
              "      <td>s</td>\n",
              "      <td>o</td>\n",
              "      <td>o</td>\n",
              "      <td>p</td>\n",
              "      <td>o</td>\n",
              "      <td>o</td>\n",
              "      <td>p</td>\n",
              "      <td>o</td>\n",
              "      <td>c</td>\n",
              "      <td>l</td>\n",
              "    </tr>\n",
              "  </tbody>\n",
              "</table>\n",
              "<p>8124 rows × 23 columns</p>\n",
              "</div>"
            ],
            "text/plain": [
              "     class cap-shape cap-surface  ... spore-print-color population habitat\n",
              "0        p         x           s  ...                 k          s       u\n",
              "1        e         x           s  ...                 n          n       g\n",
              "2        e         b           s  ...                 n          n       m\n",
              "3        p         x           y  ...                 k          s       u\n",
              "4        e         x           s  ...                 n          a       g\n",
              "...    ...       ...         ...  ...               ...        ...     ...\n",
              "8119     e         k           s  ...                 b          c       l\n",
              "8120     e         x           s  ...                 b          v       l\n",
              "8121     e         f           s  ...                 b          c       l\n",
              "8122     p         k           y  ...                 w          v       l\n",
              "8123     e         x           s  ...                 o          c       l\n",
              "\n",
              "[8124 rows x 23 columns]"
            ]
          },
          "metadata": {},
          "execution_count": 80
        }
      ]
    },
    {
      "cell_type": "code",
      "metadata": {
        "colab": {
          "base_uri": "https://localhost:8080/",
          "height": 278
        },
        "id": "AcqTMdF_bnlP",
        "outputId": "05597625-b190-4c2e-8292-930805618b1b"
      },
      "source": [
        "df_mushroom.head()"
      ],
      "execution_count": 81,
      "outputs": [
        {
          "output_type": "execute_result",
          "data": {
            "text/html": [
              "<div>\n",
              "<style scoped>\n",
              "    .dataframe tbody tr th:only-of-type {\n",
              "        vertical-align: middle;\n",
              "    }\n",
              "\n",
              "    .dataframe tbody tr th {\n",
              "        vertical-align: top;\n",
              "    }\n",
              "\n",
              "    .dataframe thead th {\n",
              "        text-align: right;\n",
              "    }\n",
              "</style>\n",
              "<table border=\"1\" class=\"dataframe\">\n",
              "  <thead>\n",
              "    <tr style=\"text-align: right;\">\n",
              "      <th></th>\n",
              "      <th>class</th>\n",
              "      <th>cap-shape</th>\n",
              "      <th>cap-surface</th>\n",
              "      <th>cap-color</th>\n",
              "      <th>bruises</th>\n",
              "      <th>odor</th>\n",
              "      <th>gill-attachment</th>\n",
              "      <th>gill-spacing</th>\n",
              "      <th>gill-size</th>\n",
              "      <th>gill-color</th>\n",
              "      <th>stalk-shape</th>\n",
              "      <th>stalk-root</th>\n",
              "      <th>stalk-surface-above-ring</th>\n",
              "      <th>stalk-surface-below-ring</th>\n",
              "      <th>stalk-color-above-ring</th>\n",
              "      <th>stalk-color-below-ring</th>\n",
              "      <th>veil-type</th>\n",
              "      <th>veil-color</th>\n",
              "      <th>ring-number</th>\n",
              "      <th>ring-type</th>\n",
              "      <th>spore-print-color</th>\n",
              "      <th>population</th>\n",
              "      <th>habitat</th>\n",
              "    </tr>\n",
              "  </thead>\n",
              "  <tbody>\n",
              "    <tr>\n",
              "      <th>0</th>\n",
              "      <td>p</td>\n",
              "      <td>x</td>\n",
              "      <td>s</td>\n",
              "      <td>n</td>\n",
              "      <td>t</td>\n",
              "      <td>p</td>\n",
              "      <td>f</td>\n",
              "      <td>c</td>\n",
              "      <td>n</td>\n",
              "      <td>k</td>\n",
              "      <td>e</td>\n",
              "      <td>e</td>\n",
              "      <td>s</td>\n",
              "      <td>s</td>\n",
              "      <td>w</td>\n",
              "      <td>w</td>\n",
              "      <td>p</td>\n",
              "      <td>w</td>\n",
              "      <td>o</td>\n",
              "      <td>p</td>\n",
              "      <td>k</td>\n",
              "      <td>s</td>\n",
              "      <td>u</td>\n",
              "    </tr>\n",
              "    <tr>\n",
              "      <th>1</th>\n",
              "      <td>e</td>\n",
              "      <td>x</td>\n",
              "      <td>s</td>\n",
              "      <td>y</td>\n",
              "      <td>t</td>\n",
              "      <td>a</td>\n",
              "      <td>f</td>\n",
              "      <td>c</td>\n",
              "      <td>b</td>\n",
              "      <td>k</td>\n",
              "      <td>e</td>\n",
              "      <td>c</td>\n",
              "      <td>s</td>\n",
              "      <td>s</td>\n",
              "      <td>w</td>\n",
              "      <td>w</td>\n",
              "      <td>p</td>\n",
              "      <td>w</td>\n",
              "      <td>o</td>\n",
              "      <td>p</td>\n",
              "      <td>n</td>\n",
              "      <td>n</td>\n",
              "      <td>g</td>\n",
              "    </tr>\n",
              "    <tr>\n",
              "      <th>2</th>\n",
              "      <td>e</td>\n",
              "      <td>b</td>\n",
              "      <td>s</td>\n",
              "      <td>w</td>\n",
              "      <td>t</td>\n",
              "      <td>l</td>\n",
              "      <td>f</td>\n",
              "      <td>c</td>\n",
              "      <td>b</td>\n",
              "      <td>n</td>\n",
              "      <td>e</td>\n",
              "      <td>c</td>\n",
              "      <td>s</td>\n",
              "      <td>s</td>\n",
              "      <td>w</td>\n",
              "      <td>w</td>\n",
              "      <td>p</td>\n",
              "      <td>w</td>\n",
              "      <td>o</td>\n",
              "      <td>p</td>\n",
              "      <td>n</td>\n",
              "      <td>n</td>\n",
              "      <td>m</td>\n",
              "    </tr>\n",
              "    <tr>\n",
              "      <th>3</th>\n",
              "      <td>p</td>\n",
              "      <td>x</td>\n",
              "      <td>y</td>\n",
              "      <td>w</td>\n",
              "      <td>t</td>\n",
              "      <td>p</td>\n",
              "      <td>f</td>\n",
              "      <td>c</td>\n",
              "      <td>n</td>\n",
              "      <td>n</td>\n",
              "      <td>e</td>\n",
              "      <td>e</td>\n",
              "      <td>s</td>\n",
              "      <td>s</td>\n",
              "      <td>w</td>\n",
              "      <td>w</td>\n",
              "      <td>p</td>\n",
              "      <td>w</td>\n",
              "      <td>o</td>\n",
              "      <td>p</td>\n",
              "      <td>k</td>\n",
              "      <td>s</td>\n",
              "      <td>u</td>\n",
              "    </tr>\n",
              "    <tr>\n",
              "      <th>4</th>\n",
              "      <td>e</td>\n",
              "      <td>x</td>\n",
              "      <td>s</td>\n",
              "      <td>g</td>\n",
              "      <td>f</td>\n",
              "      <td>n</td>\n",
              "      <td>f</td>\n",
              "      <td>w</td>\n",
              "      <td>b</td>\n",
              "      <td>k</td>\n",
              "      <td>t</td>\n",
              "      <td>e</td>\n",
              "      <td>s</td>\n",
              "      <td>s</td>\n",
              "      <td>w</td>\n",
              "      <td>w</td>\n",
              "      <td>p</td>\n",
              "      <td>w</td>\n",
              "      <td>o</td>\n",
              "      <td>e</td>\n",
              "      <td>n</td>\n",
              "      <td>a</td>\n",
              "      <td>g</td>\n",
              "    </tr>\n",
              "  </tbody>\n",
              "</table>\n",
              "</div>"
            ],
            "text/plain": [
              "  class cap-shape cap-surface  ... spore-print-color population habitat\n",
              "0     p         x           s  ...                 k          s       u\n",
              "1     e         x           s  ...                 n          n       g\n",
              "2     e         b           s  ...                 n          n       m\n",
              "3     p         x           y  ...                 k          s       u\n",
              "4     e         x           s  ...                 n          a       g\n",
              "\n",
              "[5 rows x 23 columns]"
            ]
          },
          "metadata": {},
          "execution_count": 81
        }
      ]
    },
    {
      "cell_type": "code",
      "metadata": {
        "colab": {
          "base_uri": "https://localhost:8080/"
        },
        "id": "Wset1NGDXZ3N",
        "outputId": "49e9635e-1ced-4f53-9dc7-d999194d8035"
      },
      "source": [
        "print(df_mushroom.duplicated().sum())"
      ],
      "execution_count": 82,
      "outputs": [
        {
          "output_type": "stream",
          "name": "stdout",
          "text": [
            "0\n"
          ]
        }
      ]
    },
    {
      "cell_type": "code",
      "metadata": {
        "colab": {
          "base_uri": "https://localhost:8080/",
          "height": 770
        },
        "id": "0NrOwNWkj_be",
        "outputId": "6983aef8-baac-47b8-a203-07f097d25a5a"
      },
      "source": [
        "df_mushroom.describe().T"
      ],
      "execution_count": 83,
      "outputs": [
        {
          "output_type": "execute_result",
          "data": {
            "text/html": [
              "<div>\n",
              "<style scoped>\n",
              "    .dataframe tbody tr th:only-of-type {\n",
              "        vertical-align: middle;\n",
              "    }\n",
              "\n",
              "    .dataframe tbody tr th {\n",
              "        vertical-align: top;\n",
              "    }\n",
              "\n",
              "    .dataframe thead th {\n",
              "        text-align: right;\n",
              "    }\n",
              "</style>\n",
              "<table border=\"1\" class=\"dataframe\">\n",
              "  <thead>\n",
              "    <tr style=\"text-align: right;\">\n",
              "      <th></th>\n",
              "      <th>count</th>\n",
              "      <th>unique</th>\n",
              "      <th>top</th>\n",
              "      <th>freq</th>\n",
              "    </tr>\n",
              "  </thead>\n",
              "  <tbody>\n",
              "    <tr>\n",
              "      <th>class</th>\n",
              "      <td>8124</td>\n",
              "      <td>2</td>\n",
              "      <td>e</td>\n",
              "      <td>4208</td>\n",
              "    </tr>\n",
              "    <tr>\n",
              "      <th>cap-shape</th>\n",
              "      <td>8124</td>\n",
              "      <td>6</td>\n",
              "      <td>x</td>\n",
              "      <td>3656</td>\n",
              "    </tr>\n",
              "    <tr>\n",
              "      <th>cap-surface</th>\n",
              "      <td>8124</td>\n",
              "      <td>4</td>\n",
              "      <td>y</td>\n",
              "      <td>3244</td>\n",
              "    </tr>\n",
              "    <tr>\n",
              "      <th>cap-color</th>\n",
              "      <td>8124</td>\n",
              "      <td>10</td>\n",
              "      <td>n</td>\n",
              "      <td>2284</td>\n",
              "    </tr>\n",
              "    <tr>\n",
              "      <th>bruises</th>\n",
              "      <td>8124</td>\n",
              "      <td>2</td>\n",
              "      <td>f</td>\n",
              "      <td>4748</td>\n",
              "    </tr>\n",
              "    <tr>\n",
              "      <th>odor</th>\n",
              "      <td>8124</td>\n",
              "      <td>9</td>\n",
              "      <td>n</td>\n",
              "      <td>3528</td>\n",
              "    </tr>\n",
              "    <tr>\n",
              "      <th>gill-attachment</th>\n",
              "      <td>8124</td>\n",
              "      <td>2</td>\n",
              "      <td>f</td>\n",
              "      <td>7914</td>\n",
              "    </tr>\n",
              "    <tr>\n",
              "      <th>gill-spacing</th>\n",
              "      <td>8124</td>\n",
              "      <td>2</td>\n",
              "      <td>c</td>\n",
              "      <td>6812</td>\n",
              "    </tr>\n",
              "    <tr>\n",
              "      <th>gill-size</th>\n",
              "      <td>8124</td>\n",
              "      <td>2</td>\n",
              "      <td>b</td>\n",
              "      <td>5612</td>\n",
              "    </tr>\n",
              "    <tr>\n",
              "      <th>gill-color</th>\n",
              "      <td>8124</td>\n",
              "      <td>12</td>\n",
              "      <td>b</td>\n",
              "      <td>1728</td>\n",
              "    </tr>\n",
              "    <tr>\n",
              "      <th>stalk-shape</th>\n",
              "      <td>8124</td>\n",
              "      <td>2</td>\n",
              "      <td>t</td>\n",
              "      <td>4608</td>\n",
              "    </tr>\n",
              "    <tr>\n",
              "      <th>stalk-root</th>\n",
              "      <td>8124</td>\n",
              "      <td>5</td>\n",
              "      <td>b</td>\n",
              "      <td>3776</td>\n",
              "    </tr>\n",
              "    <tr>\n",
              "      <th>stalk-surface-above-ring</th>\n",
              "      <td>8124</td>\n",
              "      <td>4</td>\n",
              "      <td>s</td>\n",
              "      <td>5176</td>\n",
              "    </tr>\n",
              "    <tr>\n",
              "      <th>stalk-surface-below-ring</th>\n",
              "      <td>8124</td>\n",
              "      <td>4</td>\n",
              "      <td>s</td>\n",
              "      <td>4936</td>\n",
              "    </tr>\n",
              "    <tr>\n",
              "      <th>stalk-color-above-ring</th>\n",
              "      <td>8124</td>\n",
              "      <td>9</td>\n",
              "      <td>w</td>\n",
              "      <td>4464</td>\n",
              "    </tr>\n",
              "    <tr>\n",
              "      <th>stalk-color-below-ring</th>\n",
              "      <td>8124</td>\n",
              "      <td>9</td>\n",
              "      <td>w</td>\n",
              "      <td>4384</td>\n",
              "    </tr>\n",
              "    <tr>\n",
              "      <th>veil-type</th>\n",
              "      <td>8124</td>\n",
              "      <td>1</td>\n",
              "      <td>p</td>\n",
              "      <td>8124</td>\n",
              "    </tr>\n",
              "    <tr>\n",
              "      <th>veil-color</th>\n",
              "      <td>8124</td>\n",
              "      <td>4</td>\n",
              "      <td>w</td>\n",
              "      <td>7924</td>\n",
              "    </tr>\n",
              "    <tr>\n",
              "      <th>ring-number</th>\n",
              "      <td>8124</td>\n",
              "      <td>3</td>\n",
              "      <td>o</td>\n",
              "      <td>7488</td>\n",
              "    </tr>\n",
              "    <tr>\n",
              "      <th>ring-type</th>\n",
              "      <td>8124</td>\n",
              "      <td>5</td>\n",
              "      <td>p</td>\n",
              "      <td>3968</td>\n",
              "    </tr>\n",
              "    <tr>\n",
              "      <th>spore-print-color</th>\n",
              "      <td>8124</td>\n",
              "      <td>9</td>\n",
              "      <td>w</td>\n",
              "      <td>2388</td>\n",
              "    </tr>\n",
              "    <tr>\n",
              "      <th>population</th>\n",
              "      <td>8124</td>\n",
              "      <td>6</td>\n",
              "      <td>v</td>\n",
              "      <td>4040</td>\n",
              "    </tr>\n",
              "    <tr>\n",
              "      <th>habitat</th>\n",
              "      <td>8124</td>\n",
              "      <td>7</td>\n",
              "      <td>d</td>\n",
              "      <td>3148</td>\n",
              "    </tr>\n",
              "  </tbody>\n",
              "</table>\n",
              "</div>"
            ],
            "text/plain": [
              "                         count unique top  freq\n",
              "class                     8124      2   e  4208\n",
              "cap-shape                 8124      6   x  3656\n",
              "cap-surface               8124      4   y  3244\n",
              "cap-color                 8124     10   n  2284\n",
              "bruises                   8124      2   f  4748\n",
              "odor                      8124      9   n  3528\n",
              "gill-attachment           8124      2   f  7914\n",
              "gill-spacing              8124      2   c  6812\n",
              "gill-size                 8124      2   b  5612\n",
              "gill-color                8124     12   b  1728\n",
              "stalk-shape               8124      2   t  4608\n",
              "stalk-root                8124      5   b  3776\n",
              "stalk-surface-above-ring  8124      4   s  5176\n",
              "stalk-surface-below-ring  8124      4   s  4936\n",
              "stalk-color-above-ring    8124      9   w  4464\n",
              "stalk-color-below-ring    8124      9   w  4384\n",
              "veil-type                 8124      1   p  8124\n",
              "veil-color                8124      4   w  7924\n",
              "ring-number               8124      3   o  7488\n",
              "ring-type                 8124      5   p  3968\n",
              "spore-print-color         8124      9   w  2388\n",
              "population                8124      6   v  4040\n",
              "habitat                   8124      7   d  3148"
            ]
          },
          "metadata": {},
          "execution_count": 83
        }
      ]
    },
    {
      "cell_type": "code",
      "metadata": {
        "id": "3_hwvKGKk317"
      },
      "source": [
        "labelencoder=LabelEncoder()\n",
        "for column in df_mushroom.columns:\n",
        "    df_mushroom[column] = labelencoder.fit_transform(df_mushroom[column])"
      ],
      "execution_count": 84,
      "outputs": []
    },
    {
      "cell_type": "code",
      "metadata": {
        "colab": {
          "base_uri": "https://localhost:8080/",
          "height": 495
        },
        "id": "vOluVoymxk6k",
        "outputId": "c40d1b02-54ba-44cb-b40d-a2f9b294c24b"
      },
      "source": [
        "df_mushroom"
      ],
      "execution_count": 85,
      "outputs": [
        {
          "output_type": "execute_result",
          "data": {
            "text/html": [
              "<div>\n",
              "<style scoped>\n",
              "    .dataframe tbody tr th:only-of-type {\n",
              "        vertical-align: middle;\n",
              "    }\n",
              "\n",
              "    .dataframe tbody tr th {\n",
              "        vertical-align: top;\n",
              "    }\n",
              "\n",
              "    .dataframe thead th {\n",
              "        text-align: right;\n",
              "    }\n",
              "</style>\n",
              "<table border=\"1\" class=\"dataframe\">\n",
              "  <thead>\n",
              "    <tr style=\"text-align: right;\">\n",
              "      <th></th>\n",
              "      <th>class</th>\n",
              "      <th>cap-shape</th>\n",
              "      <th>cap-surface</th>\n",
              "      <th>cap-color</th>\n",
              "      <th>bruises</th>\n",
              "      <th>odor</th>\n",
              "      <th>gill-attachment</th>\n",
              "      <th>gill-spacing</th>\n",
              "      <th>gill-size</th>\n",
              "      <th>gill-color</th>\n",
              "      <th>stalk-shape</th>\n",
              "      <th>stalk-root</th>\n",
              "      <th>stalk-surface-above-ring</th>\n",
              "      <th>stalk-surface-below-ring</th>\n",
              "      <th>stalk-color-above-ring</th>\n",
              "      <th>stalk-color-below-ring</th>\n",
              "      <th>veil-type</th>\n",
              "      <th>veil-color</th>\n",
              "      <th>ring-number</th>\n",
              "      <th>ring-type</th>\n",
              "      <th>spore-print-color</th>\n",
              "      <th>population</th>\n",
              "      <th>habitat</th>\n",
              "    </tr>\n",
              "  </thead>\n",
              "  <tbody>\n",
              "    <tr>\n",
              "      <th>0</th>\n",
              "      <td>1</td>\n",
              "      <td>5</td>\n",
              "      <td>2</td>\n",
              "      <td>4</td>\n",
              "      <td>1</td>\n",
              "      <td>6</td>\n",
              "      <td>1</td>\n",
              "      <td>0</td>\n",
              "      <td>1</td>\n",
              "      <td>4</td>\n",
              "      <td>0</td>\n",
              "      <td>3</td>\n",
              "      <td>2</td>\n",
              "      <td>2</td>\n",
              "      <td>7</td>\n",
              "      <td>7</td>\n",
              "      <td>0</td>\n",
              "      <td>2</td>\n",
              "      <td>1</td>\n",
              "      <td>4</td>\n",
              "      <td>2</td>\n",
              "      <td>3</td>\n",
              "      <td>5</td>\n",
              "    </tr>\n",
              "    <tr>\n",
              "      <th>1</th>\n",
              "      <td>0</td>\n",
              "      <td>5</td>\n",
              "      <td>2</td>\n",
              "      <td>9</td>\n",
              "      <td>1</td>\n",
              "      <td>0</td>\n",
              "      <td>1</td>\n",
              "      <td>0</td>\n",
              "      <td>0</td>\n",
              "      <td>4</td>\n",
              "      <td>0</td>\n",
              "      <td>2</td>\n",
              "      <td>2</td>\n",
              "      <td>2</td>\n",
              "      <td>7</td>\n",
              "      <td>7</td>\n",
              "      <td>0</td>\n",
              "      <td>2</td>\n",
              "      <td>1</td>\n",
              "      <td>4</td>\n",
              "      <td>3</td>\n",
              "      <td>2</td>\n",
              "      <td>1</td>\n",
              "    </tr>\n",
              "    <tr>\n",
              "      <th>2</th>\n",
              "      <td>0</td>\n",
              "      <td>0</td>\n",
              "      <td>2</td>\n",
              "      <td>8</td>\n",
              "      <td>1</td>\n",
              "      <td>3</td>\n",
              "      <td>1</td>\n",
              "      <td>0</td>\n",
              "      <td>0</td>\n",
              "      <td>5</td>\n",
              "      <td>0</td>\n",
              "      <td>2</td>\n",
              "      <td>2</td>\n",
              "      <td>2</td>\n",
              "      <td>7</td>\n",
              "      <td>7</td>\n",
              "      <td>0</td>\n",
              "      <td>2</td>\n",
              "      <td>1</td>\n",
              "      <td>4</td>\n",
              "      <td>3</td>\n",
              "      <td>2</td>\n",
              "      <td>3</td>\n",
              "    </tr>\n",
              "    <tr>\n",
              "      <th>3</th>\n",
              "      <td>1</td>\n",
              "      <td>5</td>\n",
              "      <td>3</td>\n",
              "      <td>8</td>\n",
              "      <td>1</td>\n",
              "      <td>6</td>\n",
              "      <td>1</td>\n",
              "      <td>0</td>\n",
              "      <td>1</td>\n",
              "      <td>5</td>\n",
              "      <td>0</td>\n",
              "      <td>3</td>\n",
              "      <td>2</td>\n",
              "      <td>2</td>\n",
              "      <td>7</td>\n",
              "      <td>7</td>\n",
              "      <td>0</td>\n",
              "      <td>2</td>\n",
              "      <td>1</td>\n",
              "      <td>4</td>\n",
              "      <td>2</td>\n",
              "      <td>3</td>\n",
              "      <td>5</td>\n",
              "    </tr>\n",
              "    <tr>\n",
              "      <th>4</th>\n",
              "      <td>0</td>\n",
              "      <td>5</td>\n",
              "      <td>2</td>\n",
              "      <td>3</td>\n",
              "      <td>0</td>\n",
              "      <td>5</td>\n",
              "      <td>1</td>\n",
              "      <td>1</td>\n",
              "      <td>0</td>\n",
              "      <td>4</td>\n",
              "      <td>1</td>\n",
              "      <td>3</td>\n",
              "      <td>2</td>\n",
              "      <td>2</td>\n",
              "      <td>7</td>\n",
              "      <td>7</td>\n",
              "      <td>0</td>\n",
              "      <td>2</td>\n",
              "      <td>1</td>\n",
              "      <td>0</td>\n",
              "      <td>3</td>\n",
              "      <td>0</td>\n",
              "      <td>1</td>\n",
              "    </tr>\n",
              "    <tr>\n",
              "      <th>...</th>\n",
              "      <td>...</td>\n",
              "      <td>...</td>\n",
              "      <td>...</td>\n",
              "      <td>...</td>\n",
              "      <td>...</td>\n",
              "      <td>...</td>\n",
              "      <td>...</td>\n",
              "      <td>...</td>\n",
              "      <td>...</td>\n",
              "      <td>...</td>\n",
              "      <td>...</td>\n",
              "      <td>...</td>\n",
              "      <td>...</td>\n",
              "      <td>...</td>\n",
              "      <td>...</td>\n",
              "      <td>...</td>\n",
              "      <td>...</td>\n",
              "      <td>...</td>\n",
              "      <td>...</td>\n",
              "      <td>...</td>\n",
              "      <td>...</td>\n",
              "      <td>...</td>\n",
              "      <td>...</td>\n",
              "    </tr>\n",
              "    <tr>\n",
              "      <th>8119</th>\n",
              "      <td>0</td>\n",
              "      <td>3</td>\n",
              "      <td>2</td>\n",
              "      <td>4</td>\n",
              "      <td>0</td>\n",
              "      <td>5</td>\n",
              "      <td>0</td>\n",
              "      <td>0</td>\n",
              "      <td>0</td>\n",
              "      <td>11</td>\n",
              "      <td>0</td>\n",
              "      <td>0</td>\n",
              "      <td>2</td>\n",
              "      <td>2</td>\n",
              "      <td>5</td>\n",
              "      <td>5</td>\n",
              "      <td>0</td>\n",
              "      <td>1</td>\n",
              "      <td>1</td>\n",
              "      <td>4</td>\n",
              "      <td>0</td>\n",
              "      <td>1</td>\n",
              "      <td>2</td>\n",
              "    </tr>\n",
              "    <tr>\n",
              "      <th>8120</th>\n",
              "      <td>0</td>\n",
              "      <td>5</td>\n",
              "      <td>2</td>\n",
              "      <td>4</td>\n",
              "      <td>0</td>\n",
              "      <td>5</td>\n",
              "      <td>0</td>\n",
              "      <td>0</td>\n",
              "      <td>0</td>\n",
              "      <td>11</td>\n",
              "      <td>0</td>\n",
              "      <td>0</td>\n",
              "      <td>2</td>\n",
              "      <td>2</td>\n",
              "      <td>5</td>\n",
              "      <td>5</td>\n",
              "      <td>0</td>\n",
              "      <td>0</td>\n",
              "      <td>1</td>\n",
              "      <td>4</td>\n",
              "      <td>0</td>\n",
              "      <td>4</td>\n",
              "      <td>2</td>\n",
              "    </tr>\n",
              "    <tr>\n",
              "      <th>8121</th>\n",
              "      <td>0</td>\n",
              "      <td>2</td>\n",
              "      <td>2</td>\n",
              "      <td>4</td>\n",
              "      <td>0</td>\n",
              "      <td>5</td>\n",
              "      <td>0</td>\n",
              "      <td>0</td>\n",
              "      <td>0</td>\n",
              "      <td>5</td>\n",
              "      <td>0</td>\n",
              "      <td>0</td>\n",
              "      <td>2</td>\n",
              "      <td>2</td>\n",
              "      <td>5</td>\n",
              "      <td>5</td>\n",
              "      <td>0</td>\n",
              "      <td>1</td>\n",
              "      <td>1</td>\n",
              "      <td>4</td>\n",
              "      <td>0</td>\n",
              "      <td>1</td>\n",
              "      <td>2</td>\n",
              "    </tr>\n",
              "    <tr>\n",
              "      <th>8122</th>\n",
              "      <td>1</td>\n",
              "      <td>3</td>\n",
              "      <td>3</td>\n",
              "      <td>4</td>\n",
              "      <td>0</td>\n",
              "      <td>8</td>\n",
              "      <td>1</td>\n",
              "      <td>0</td>\n",
              "      <td>1</td>\n",
              "      <td>0</td>\n",
              "      <td>1</td>\n",
              "      <td>0</td>\n",
              "      <td>2</td>\n",
              "      <td>1</td>\n",
              "      <td>7</td>\n",
              "      <td>7</td>\n",
              "      <td>0</td>\n",
              "      <td>2</td>\n",
              "      <td>1</td>\n",
              "      <td>0</td>\n",
              "      <td>7</td>\n",
              "      <td>4</td>\n",
              "      <td>2</td>\n",
              "    </tr>\n",
              "    <tr>\n",
              "      <th>8123</th>\n",
              "      <td>0</td>\n",
              "      <td>5</td>\n",
              "      <td>2</td>\n",
              "      <td>4</td>\n",
              "      <td>0</td>\n",
              "      <td>5</td>\n",
              "      <td>0</td>\n",
              "      <td>0</td>\n",
              "      <td>0</td>\n",
              "      <td>11</td>\n",
              "      <td>0</td>\n",
              "      <td>0</td>\n",
              "      <td>2</td>\n",
              "      <td>2</td>\n",
              "      <td>5</td>\n",
              "      <td>5</td>\n",
              "      <td>0</td>\n",
              "      <td>1</td>\n",
              "      <td>1</td>\n",
              "      <td>4</td>\n",
              "      <td>4</td>\n",
              "      <td>1</td>\n",
              "      <td>2</td>\n",
              "    </tr>\n",
              "  </tbody>\n",
              "</table>\n",
              "<p>8124 rows × 23 columns</p>\n",
              "</div>"
            ],
            "text/plain": [
              "      class  cap-shape  cap-surface  ...  spore-print-color  population  habitat\n",
              "0         1          5            2  ...                  2           3        5\n",
              "1         0          5            2  ...                  3           2        1\n",
              "2         0          0            2  ...                  3           2        3\n",
              "3         1          5            3  ...                  2           3        5\n",
              "4         0          5            2  ...                  3           0        1\n",
              "...     ...        ...          ...  ...                ...         ...      ...\n",
              "8119      0          3            2  ...                  0           1        2\n",
              "8120      0          5            2  ...                  0           4        2\n",
              "8121      0          2            2  ...                  0           1        2\n",
              "8122      1          3            3  ...                  7           4        2\n",
              "8123      0          5            2  ...                  4           1        2\n",
              "\n",
              "[8124 rows x 23 columns]"
            ]
          },
          "metadata": {},
          "execution_count": 85
        }
      ]
    },
    {
      "cell_type": "code",
      "metadata": {
        "id": "21Xs9Sii6Swh"
      },
      "source": [
        "df_mushroom.rename(columns={'class':'category'}, inplace=True)"
      ],
      "execution_count": 86,
      "outputs": []
    },
    {
      "cell_type": "code",
      "metadata": {
        "colab": {
          "base_uri": "https://localhost:8080/",
          "height": 516
        },
        "id": "vfLfddfcoL0j",
        "outputId": "c27d3a66-6dc3-49f5-ce9f-6024fc6b2b3c"
      },
      "source": [
        "count = df_mushroom['category'].value_counts()\n",
        "plt.figure(figsize=(8,7))\n",
        "sns.barplot(count.index, count.values, alpha=0.8, palette=\"Greens\")\n",
        "plt.ylabel('Count', fontsize=12)\n",
        "plt.xlabel('Class', fontsize=12)\n",
        "plt.title('Number of poisonous/edible mushrooms')\n",
        "#plt.savefig(\"mushrooms1.png\", format='png', dpi=500)\n",
        "plt.show()"
      ],
      "execution_count": 87,
      "outputs": [
        {
          "output_type": "stream",
          "name": "stderr",
          "text": [
            "/usr/local/lib/python3.7/dist-packages/seaborn/_decorators.py:43: FutureWarning: Pass the following variables as keyword args: x, y. From version 0.12, the only valid positional argument will be `data`, and passing other arguments without an explicit keyword will result in an error or misinterpretation.\n",
            "  FutureWarning\n"
          ]
        },
        {
          "output_type": "display_data",
          "data": {
            "image/png": "[encoded data removed]",
            "text/plain": [
              "<Figure size 576x504 with 1 Axes>"
            ]
          },
          "metadata": {
            "needs_background": "light"
          }
        }
      ]
    },
    {
      "cell_type": "code",
      "metadata": {
        "colab": {
          "base_uri": "https://localhost:8080/",
          "height": 327
        },
        "id": "S542VtS74sHg",
        "outputId": "16b188bc-d1c9-45b8-a4ad-26bc159f46b4"
      },
      "source": [
        "plt.figure(figsize=(20,20))\n",
        "crosstab=pd.crosstab(df_mushroom['cap-shape'],df_mushroom.category)\n",
        "crosstab.plot(kind=\"bar\",stacked=True)\n",
        "plt.xlabel(\"Cap-shape\")\n",
        "plt.ylabel(\"Count\")\n",
        "plt.title(\"Edible and poisonous mushrooms based on cap-shape\")"
      ],
      "execution_count": 88,
      "outputs": [
        {
          "output_type": "execute_result",
          "data": {
            "text/plain": [
              "Text(0.5, 1.0, 'Edible and poisonous mushrooms based on cap-shape')"
            ]
          },
          "metadata": {},
          "execution_count": 88
        },
        {
          "output_type": "display_data",
          "data": {
            "text/plain": [
              "<Figure size 1440x1440 with 0 Axes>"
            ]
          },
          "metadata": {}
        },
        {
          "output_type": "display_data",
          "data": {
            "image/png": "[encoded data removed]",
            "text/plain": [
              "<Figure size 432x288 with 1 Axes>"
            ]
          },
          "metadata": {
            "needs_background": "light"
          }
        }
      ]
    },
    {
      "cell_type": "code",
      "metadata": {
        "colab": {
          "base_uri": "https://localhost:8080/",
          "height": 327
        },
        "id": "Z-MzZti99VII",
        "outputId": "4bdaf023-377a-4347-fa49-6e7e4215f7ec"
      },
      "source": [
        "plt.figure()\n",
        "crosstab=pd.crosstab(df_mushroom['odor'],df_mushroom.category)\n",
        "crosstab.plot(kind=\"bar\",stacked=True)\n",
        "plt.xlabel(\"ODOR\")\n",
        "plt.ylabel(\"Count\")\n",
        "plt.title(\"Edible and poisonous mushrooms based on ODOR\")"
      ],
      "execution_count": 89,
      "outputs": [
        {
          "output_type": "execute_result",
          "data": {
            "text/plain": [
              "Text(0.5, 1.0, 'Edible and poisonous mushrooms based on ODOR')"
            ]
          },
          "metadata": {},
          "execution_count": 89
        },
        {
          "output_type": "display_data",
          "data": {
            "text/plain": [
              "<Figure size 432x288 with 0 Axes>"
            ]
          },
          "metadata": {}
        },
        {
          "output_type": "display_data",
          "data": {
            "image/png": "[encoded data removed]",
            "text/plain": [
              "<Figure size 432x288 with 1 Axes>"
            ]
          },
          "metadata": {
            "needs_background": "light"
          }
        }
      ]
    },
    {
      "cell_type": "code",
      "metadata": {
        "colab": {
          "base_uri": "https://localhost:8080/",
          "height": 327
        },
        "id": "laiO6G5-9d-4",
        "outputId": "759b4c6b-f72d-431b-8e16-730551b3e2df"
      },
      "source": [
        "plt.figure()\n",
        "crosstab=pd.crosstab(df_mushroom['gill-attachment'],df_mushroom.category)\n",
        "crosstab.plot(kind=\"bar\",stacked=True )\n",
        "plt.xlabel(\"Gill-attachment\")\n",
        "plt.ylabel(\"Count\")\n",
        "plt.title(\"Edible and poisonous mushrooms based on gill-attachment\")"
      ],
      "execution_count": 90,
      "outputs": [
        {
          "output_type": "execute_result",
          "data": {
            "text/plain": [
              "Text(0.5, 1.0, 'Edible and poisonous mushrooms based on gill-attachment')"
            ]
          },
          "metadata": {},
          "execution_count": 90
        },
        {
          "output_type": "display_data",
          "data": {
            "text/plain": [
              "<Figure size 432x288 with 0 Axes>"
            ]
          },
          "metadata": {}
        },
        {
          "output_type": "display_data",
          "data": {
            "image/png": "[encoded data removed]",
            "text/plain": [
              "<Figure size 432x288 with 1 Axes>"
            ]
          },
          "metadata": {
            "needs_background": "light"
          }
        }
      ]
    },
    {
      "cell_type": "code",
      "metadata": {
        "colab": {
          "base_uri": "https://localhost:8080/",
          "height": 333
        },
        "id": "HgGpoDb795-d",
        "outputId": "f1f0e01a-0464-402b-8d8a-1ebfd8e40e48"
      },
      "source": [
        "plt.figure()\n",
        "crosstab=pd.crosstab(df_mushroom['gill-color'],df_mushroom.category)\n",
        "crosstab.plot(kind=\"bar\",stacked=True)\n",
        "plt.xlabel(\"Gill-color\")\n",
        "plt.ylabel(\"Count\")\n",
        "plt.title(\"Edible and poisonous mushrooms based on gill-color\")"
      ],
      "execution_count": 91,
      "outputs": [
        {
          "output_type": "execute_result",
          "data": {
            "text/plain": [
              "Text(0.5, 1.0, 'Edible and poisonous mushrooms based on gill-color')"
            ]
          },
          "metadata": {},
          "execution_count": 91
        },
        {
          "output_type": "display_data",
          "data": {
            "text/plain": [
              "<Figure size 432x288 with 0 Axes>"
            ]
          },
          "metadata": {}
        },
        {
          "output_type": "display_data",
          "data": {
            "image/png": "[encoded data removed]",
            "text/plain": [
              "<Figure size 432x288 with 1 Axes>"
            ]
          },
          "metadata": {
            "needs_background": "light"
          }
        }
      ]
    },
    {
      "cell_type": "code",
      "metadata": {
        "colab": {
          "base_uri": "https://localhost:8080/",
          "height": 327
        },
        "id": "m8v7-DsR-F33",
        "outputId": "c9a77547-30a8-44b8-817e-9999fa1723b2"
      },
      "source": [
        "plt.figure()\n",
        "crosstab=pd.crosstab(df_mushroom['stalk-root'],df_mushroom.category)\n",
        "crosstab.plot(kind=\"bar\",stacked=True)\n",
        "plt.xlabel(\"stalk-root\")\n",
        "plt.ylabel(\"Count\")\n",
        "plt.title(\"Edible and poisonous mushrooms based on stalk-root\")\n",
        "## in this plot; type ? corresponds to missing values"
      ],
      "execution_count": 92,
      "outputs": [
        {
          "output_type": "execute_result",
          "data": {
            "text/plain": [
              "Text(0.5, 1.0, 'Edible and poisonous mushrooms based on stalk-root')"
            ]
          },
          "metadata": {},
          "execution_count": 92
        },
        {
          "output_type": "display_data",
          "data": {
            "text/plain": [
              "<Figure size 432x288 with 0 Axes>"
            ]
          },
          "metadata": {}
        },
        {
          "output_type": "display_data",
          "data": {
            "image/png": "[encoded data removed]",
            "text/plain": [
              "<Figure size 432x288 with 1 Axes>"
            ]
          },
          "metadata": {
            "needs_background": "light"
          }
        }
      ]
    },
    {
      "cell_type": "code",
      "metadata": {
        "colab": {
          "base_uri": "https://localhost:8080/",
          "height": 327
        },
        "id": "x8XNCXb7-PCM",
        "outputId": "8cd2f0c0-74b3-48a5-d733-ebcccc6caabd"
      },
      "source": [
        "plt.figure()\n",
        "crosstab=pd.crosstab(df_mushroom['stalk-color-above-ring'],df_mushroom.category)\n",
        "crosstab.plot(kind=\"bar\",stacked=True)\n",
        "plt.xlabel(\"stalk-color-above-ring\")\n",
        "plt.ylabel(\"Count\")\n",
        "plt.title(\"Edible and poisonous mushrooms based on stalk-color-above-ring\")"
      ],
      "execution_count": 93,
      "outputs": [
        {
          "output_type": "execute_result",
          "data": {
            "text/plain": [
              "Text(0.5, 1.0, 'Edible and poisonous mushrooms based on stalk-color-above-ring')"
            ]
          },
          "metadata": {},
          "execution_count": 93
        },
        {
          "output_type": "display_data",
          "data": {
            "text/plain": [
              "<Figure size 432x288 with 0 Axes>"
            ]
          },
          "metadata": {}
        },
        {
          "output_type": "display_data",
          "data": {
            "image/png": "[encoded data removed]",
            "text/plain": [
              "<Figure size 432x288 with 1 Axes>"
            ]
          },
          "metadata": {
            "needs_background": "light"
          }
        }
      ]
    },
    {
      "cell_type": "code",
      "metadata": {
        "colab": {
          "base_uri": "https://localhost:8080/",
          "height": 327
        },
        "id": "34TueDYx-cJ_",
        "outputId": "27383643-dc51-4d75-9399-4e423e3c08c7"
      },
      "source": [
        "plt.figure()\n",
        "crosstab=pd.crosstab(df_mushroom['stalk-color-below-ring'],df_mushroom.category)\n",
        "crosstab.plot(kind=\"bar\",stacked=True)\n",
        "plt.xlabel(\"stalk-color-below-ring\")\n",
        "plt.ylabel(\"Count\")\n",
        "plt.title(\"Edible and poisonous mushrooms based on stalk-color-below-ring\")"
      ],
      "execution_count": 94,
      "outputs": [
        {
          "output_type": "execute_result",
          "data": {
            "text/plain": [
              "Text(0.5, 1.0, 'Edible and poisonous mushrooms based on stalk-color-below-ring')"
            ]
          },
          "metadata": {},
          "execution_count": 94
        },
        {
          "output_type": "display_data",
          "data": {
            "text/plain": [
              "<Figure size 432x288 with 0 Axes>"
            ]
          },
          "metadata": {}
        },
        {
          "output_type": "display_data",
          "data": {
            "image/png": "[encoded data removed]",
            "text/plain": [
              "<Figure size 432x288 with 1 Axes>"
            ]
          },
          "metadata": {
            "needs_background": "light"
          }
        }
      ]
    },
    {
      "cell_type": "code",
      "metadata": {
        "colab": {
          "base_uri": "https://localhost:8080/",
          "height": 327
        },
        "id": "lu2wWhvz-jXI",
        "outputId": "5b933f66-dd35-47da-b81e-b2d6a05158ae"
      },
      "source": [
        "plt.figure()\n",
        "crosstab=pd.crosstab(df_mushroom['ring-type'],df_mushroom.category)\n",
        "crosstab.plot(kind=\"bar\",stacked=True)\n",
        "plt.xlabel(\"ring-type\")\n",
        "plt.ylabel(\"Count\")\n",
        "plt.title(\"Edible and poisonous mushrooms based on ring-type\")"
      ],
      "execution_count": 95,
      "outputs": [
        {
          "output_type": "execute_result",
          "data": {
            "text/plain": [
              "Text(0.5, 1.0, 'Edible and poisonous mushrooms based on ring-type')"
            ]
          },
          "metadata": {},
          "execution_count": 95
        },
        {
          "output_type": "display_data",
          "data": {
            "text/plain": [
              "<Figure size 432x288 with 0 Axes>"
            ]
          },
          "metadata": {}
        },
        {
          "output_type": "display_data",
          "data": {
            "image/png": "[encoded data removed]",
            "text/plain": [
              "<Figure size 432x288 with 1 Axes>"
            ]
          },
          "metadata": {
            "needs_background": "light"
          }
        }
      ]
    },
    {
      "cell_type": "code",
      "metadata": {
        "colab": {
          "base_uri": "https://localhost:8080/"
        },
        "id": "lSp7_RVkcRUN",
        "outputId": "d5ef2898-3ca6-432a-eabf-0d53d678ce8a"
      },
      "source": [
        "df_mushroom['category'].value_counts()"
      ],
      "execution_count": 96,
      "outputs": [
        {
          "output_type": "execute_result",
          "data": {
            "text/plain": [
              "0    4208\n",
              "1    3916\n",
              "Name: category, dtype: int64"
            ]
          },
          "metadata": {},
          "execution_count": 96
        }
      ]
    },
    {
      "cell_type": "code",
      "metadata": {
        "id": "hFvOZt7Xsb3l"
      },
      "source": [
        "#df_mushroom=df_mushroom.drop([\"veil-type\"],axis=1)"
      ],
      "execution_count": 97,
      "outputs": []
    },
    {
      "cell_type": "code",
      "metadata": {
        "colab": {
          "base_uri": "https://localhost:8080/",
          "height": 446
        },
        "id": "17iNBkX0pm1g",
        "outputId": "65bcdbad-9ee9-49ab-84fb-d5aed403c937"
      },
      "source": [
        "df_div = pd.melt(df_mushroom, \"category\", var_name=\"Characteristics\") # palette = \"crest\"\n",
        "fig, ax = plt.subplots(figsize=(10,5))\n",
        "p = sns.violinplot(ax = ax, x=\"Characteristics\", y=\"value\", hue=\"category\", split = True, data=df_div, inner = 'quartile', palette = 'Greens')\n",
        "df_no_class = df_mushroom.drop([\"category\"],axis = 1)\n",
        "p.set_xticklabels(rotation = 90, labels = list(df_no_class.columns));\n"
      ],
      "execution_count": 98,
      "outputs": [
        {
          "output_type": "display_data",
          "data": {
            "image/png": "[encoded data removed]",
            "text/plain": [
              "<Figure size 720x360 with 1 Axes>"
            ]
          },
          "metadata": {
            "needs_background": "light"
          }
        }
      ]
    },
    {
      "cell_type": "code",
      "metadata": {
        "colab": {
          "base_uri": "https://localhost:8080/",
          "height": 603
        },
        "id": "5XKFJ3z1K80o",
        "outputId": "2d24a77a-b064-4ec1-aaa7-ea5795895240"
      },
      "source": [
        "\n",
        "#Plotting the cap-shape in a cat plot\n",
        "#cap-color: brown=n, buff=b,cinnamon=c, gray=g, green=r, pink=p, purple=u, red=e, white=w, yellow=y\n",
        "#cap-shape: bell=b, conical=c, convex=x, flat=f, knobbed=k, sunken=s\n",
        "\n",
        "plt.figure(figsize =(14, 6))\n",
        "\n",
        "g = sns.catplot(x = \"cap-shape\", hue = \"cap-color\", col = \"category\",\n",
        "               data = df_mushroom, kind = \"count\", \n",
        "                height = 8, aspect = .7 ,  palette = \"Spectral\")\n",
        "\n"
      ],
      "execution_count": 99,
      "outputs": [
        {
          "output_type": "display_data",
          "data": {
            "text/plain": [
              "<Figure size 1008x432 with 0 Axes>"
            ]
          },
          "metadata": {}
        },
        {
          "output_type": "display_data",
          "data": {
            "image/png": "[encoded data removed]",
            "text/plain": [
              "<Figure size 860.4x576 with 2 Axes>"
            ]
          },
          "metadata": {
            "needs_background": "light"
          }
        }
      ]
    },
    {
      "cell_type": "code",
      "metadata": {
        "colab": {
          "base_uri": "https://localhost:8080/",
          "height": 531
        },
        "id": "2SFXZQ3vLLK5",
        "outputId": "d1c7b06f-dfda-4570-ceba-6fb70633f64f"
      },
      "source": [
        "\n",
        "#odor: almond=a, anise=l, creosote=c, fishy=y, foul=f, musty=m, none=n, pungent=p, spicy=s\n",
        "#bruises: bruises=t, no=f\n",
        "\n",
        "#ploting odour in catplot , palette=\"ch:.25\"\n",
        "\n",
        "plt.figure(figsize = (14,6))\n",
        "g = sns.catplot(x= \"odor\", hue = \"bruises\", col = \"category\",\n",
        "               data = df_mushroom, kind = \"count\",\n",
        "               height = 7, aspect = .7, palette = \"Greens\")"
      ],
      "execution_count": 100,
      "outputs": [
        {
          "output_type": "display_data",
          "data": {
            "text/plain": [
              "<Figure size 1008x432 with 0 Axes>"
            ]
          },
          "metadata": {}
        },
        {
          "output_type": "display_data",
          "data": {
            "image/png": "[encoded data removed]",
            "text/plain": [
              "<Figure size 749.85x504 with 2 Axes>"
            ]
          },
          "metadata": {
            "needs_background": "light"
          }
        }
      ]
    },
    {
      "cell_type": "markdown",
      "metadata": {
        "id": "Sbb-3Vc0yrFA"
      },
      "source": [
        "## Preparing the Data"
      ]
    },
    {
      "cell_type": "code",
      "metadata": {
        "id": "ox9HnC8bzLrc"
      },
      "source": [
        "y = df_mushroom[\"category\"].values\n",
        "x = df_mushroom.drop([\"category\"], axis=1).values\n",
        "x_train, x_test, y_train, y_test = train_test_split(x,y,random_state=42,test_size=0.2)"
      ],
      "execution_count": 101,
      "outputs": []
    },
    {
      "cell_type": "markdown",
      "metadata": {
        "id": "OEClivmA7VGz"
      },
      "source": [
        "# Classification Methods\n"
      ]
    },
    {
      "cell_type": "markdown",
      "metadata": {
        "id": "nCOEx60DS7Fd"
      },
      "source": [
        "## 1. Decision Tree Classification"
      ]
    },
    {
      "cell_type": "code",
      "metadata": {
        "colab": {
          "base_uri": "https://localhost:8080/"
        },
        "id": "PrN8UvhwRDGr",
        "outputId": "9b1093d2-b088-4608-91a7-7c8a99d51604"
      },
      "source": [
        "dt = DecisionTreeClassifier()\n",
        "dt.fit(x_train, y_train)"
      ],
      "execution_count": 102,
      "outputs": [
        {
          "output_type": "execute_result",
          "data": {
            "text/plain": [
              "DecisionTreeClassifier(ccp_alpha=0.0, class_weight=None, criterion='gini',\n",
              "                       max_depth=None, max_features=None, max_leaf_nodes=None,\n",
              "                       min_impurity_decrease=0.0, min_impurity_split=None,\n",
              "                       min_samples_leaf=1, min_samples_split=2,\n",
              "                       min_weight_fraction_leaf=0.0, presort='deprecated',\n",
              "                       random_state=None, splitter='best')"
            ]
          },
          "metadata": {},
          "execution_count": 102
        }
      ]
    },
    {
      "cell_type": "code",
      "metadata": {
        "colab": {
          "base_uri": "https://localhost:8080/"
        },
        "id": "kE_VvwwASpDZ",
        "outputId": "c9e022d2-9b49-4e1b-820a-740fc6cf1a2c"
      },
      "source": [
        "y_pred_dt = dt.predict(x_test)\n",
        "print(\"Decision Tree Classifier report: \\n\\n\", classification_report(y_test, y_pred_dt))\n",
        "print(\"Test Accuracy: {}%\".format(round(dt.score(x_test, y_test)*100, 2)))\n",
        "\n",
        "print(\"ACCURACY:\",accuracy_score(y_test, y_pred_dt))\n",
        "print(\"RECALL:\",recall_score(y_test, y_pred_dt, average=\"binary\"))"
      ],
      "execution_count": 103,
      "outputs": [
        {
          "output_type": "stream",
          "name": "stdout",
          "text": [
            "Decision Tree Classifier report: \n",
            "\n",
            "               precision    recall  f1-score   support\n",
            "\n",
            "           0       1.00      1.00      1.00       843\n",
            "           1       1.00      1.00      1.00       782\n",
            "\n",
            "    accuracy                           1.00      1625\n",
            "   macro avg       1.00      1.00      1.00      1625\n",
            "weighted avg       1.00      1.00      1.00      1625\n",
            "\n",
            "Test Accuracy: 100.0%\n",
            "ACCURACY: 1.0\n",
            "RECALL: 1.0\n"
          ]
        }
      ]
    },
    {
      "cell_type": "code",
      "metadata": {
        "colab": {
          "base_uri": "https://localhost:8080/",
          "height": 458
        },
        "id": "VNXJjUGJSwcX",
        "outputId": "1310e4de-030e-41db-ec6c-c9aeb8d3128b"
      },
      "source": [
        "cm = confusion_matrix(y_test, y_pred_dt)#palette=\"crest\"\n",
        "x_axis_labels = [\"Edible\", \"Poisonous\"]\n",
        "y_axis_labels = [\"Edible\", \"Poisonous\"]\n",
        "f, ax = plt.subplots(figsize =(7,7))\n",
        "sns.heatmap(cm/np.sum(cm), annot=True, fmt='.2%', cmap='Greens', xticklabels=x_axis_labels, yticklabels=y_axis_labels)\n",
        "plt.xlabel(\"PREDICTED LABEL\")\n",
        "plt.ylabel(\"TRUE LABEL\")\n",
        "plt.title('Confusion Matrix for Decision Tree Classifier')\n",
        "#plt.savefig(\"dtcm.png\", format='png', dpi=500, bbox_inches='tight')\n",
        "plt.show()"
      ],
      "execution_count": 104,
      "outputs": [
        {
          "output_type": "display_data",
          "data": {
            "image/png": "[encoded data removed]",
            "text/plain": [
              "<Figure size 504x504 with 2 Axes>"
            ]
          },
          "metadata": {
            "needs_background": "light"
          }
        }
      ]
    },
    {
      "cell_type": "code",
      "metadata": {
        "colab": {
          "base_uri": "https://localhost:8080/",
          "height": 300
        },
        "id": "NdjmNUt88cOn",
        "outputId": "1e4fa8f2-4dbb-4b95-ebbb-83df918d1af4"
      },
      "source": [
        "group_names = ['True Neg','False Pos','False Neg','True Pos']\n",
        "group_counts = [\"{0:0.0f}\".format(value) for value in\n",
        "                cm.flatten()]\n",
        "group_percentages = [\"{0:.2%}\".format(value) for value in\n",
        "                     cm.flatten()/np.sum(cm)]\n",
        "labels = [f\"{v1}\\n{v2}\\n{v3}\" for v1, v2, v3 in\n",
        "          zip(group_names,group_counts,group_percentages)]\n",
        "labels = np.asarray(labels).reshape(2,2)\n",
        "baseline_cm2 = sns.heatmap(cm, annot=labels, fmt='', cmap='Greens')\n",
        "baseline_cm2.set_title('Baseline Model Confusion Matrix', size =15) \n",
        "baseline_cm2.set_xlabel('Predicted', size= 12) \n",
        "baseline_cm2.set_ylabel('Actual', size= 12)\n",
        "baseline_cm2.figure.savefig(\"BaselineCM.png\")"
      ],
      "execution_count": 105,
      "outputs": [
        {
          "output_type": "display_data",
          "data": {
            "image/png": "[encoded data removed]",
            "text/plain": [
              "<Figure size 432x288 with 2 Axes>"
            ]
          },
          "metadata": {
            "needs_background": "light"
          }
        }
      ]
    },
    {
      "cell_type": "markdown",
      "metadata": {
        "id": "6DPAYekzvM-r"
      },
      "source": [
        "Making sure that the perfect results are legit by:\n",
        "1. comparing train and test sets \n",
        "2. cross validation "
      ]
    },
    {
      "cell_type": "code",
      "metadata": {
        "colab": {
          "base_uri": "https://localhost:8080/"
        },
        "id": "YOU_QapzxHTS",
        "outputId": "01c4370d-be8a-43bf-fe17-a8a2269caa9a"
      },
      "source": [
        "print(x_train == x_test)"
      ],
      "execution_count": 106,
      "outputs": [
        {
          "output_type": "stream",
          "name": "stdout",
          "text": [
            "False\n"
          ]
        },
        {
          "output_type": "stream",
          "name": "stderr",
          "text": [
            "/usr/local/lib/python3.7/dist-packages/ipykernel_launcher.py:1: DeprecationWarning: elementwise comparison failed; this will raise an error in the future.\n",
            "  \"\"\"Entry point for launching an IPython kernel.\n"
          ]
        }
      ]
    },
    {
      "cell_type": "code",
      "metadata": {
        "id": "qhVg3GYDYlUy"
      },
      "source": [
        "param_grid = [{'C': np.logspace(-3, 3, 10)}]\n",
        "\n",
        "grid_search = GridSearchCV(\n",
        "    estimator=DecisionTreeClassifier(),\n",
        "    param_grid=param_grid,\n",
        "    cv=StratifiedShuffleSplit(n_splits=10, test_size=0.2, random_state=42),\n",
        "    scoring='f1',\n",
        "    n_jobs=-1\n",
        ")\n",
        "\n",
        "scores = cross_val_score(\n",
        "    estimator=grid_search,\n",
        "    X=x_test,\n",
        "    y=y_pred_dt,\n",
        "    cv=StratifiedShuffleSplit(n_splits=10, test_size=0.2, random_state=0),\n",
        "    scoring='f1',\n",
        "    n_jobs=-1\n",
        ")"
      ],
      "execution_count": 108,
      "outputs": []
    },
    {
      "cell_type": "code",
      "metadata": {
        "colab": {
          "base_uri": "https://localhost:8080/",
          "height": 295
        },
        "id": "IcjSO3SFsVf5",
        "outputId": "89783194-7c35-4a6b-cfb7-c8c6e7d7a4dc"
      },
      "source": [
        "def roc_curve_acc(y_test, Y_pred,method):\n",
        "    false_positive_rate, true_positive_rate, thresholds = roc_curve(y_test, Y_pred)\n",
        "    roc_auc = auc(false_positive_rate, true_positive_rate)\n",
        "    plt.title('Receiver Operating Characteristic')\n",
        "    plt.plot(false_positive_rate, true_positive_rate, color='darkorange',label='%s AUC = %0.3f'%(method, roc_auc))\n",
        "    plt.legend(loc='lower right')\n",
        "    plt.plot([0,1],[0,1],'b--')\n",
        "    plt.ylim([-0.1, 1.1])\n",
        "    plt.xlim([-0.1, 1.1])\n",
        "    plt.ylabel('True Positive Rate')\n",
        "    plt.xlabel('False Positive Rate')\n",
        "\n",
        "roc_curve_acc(y_test, y_pred_dt, \"Gaussian Decision Tree \")"
      ],
      "execution_count": 110,
      "outputs": [
        {
          "output_type": "display_data",
          "data": {
            "image/png": "[encoded data removed]",
            "text/plain": [
              "<Figure size 432x288 with 1 Axes>"
            ]
          },
          "metadata": {
            "needs_background": "light"
          }
        }
      ]
    },
    {
      "cell_type": "markdown",
      "metadata": {
        "id": "aL6IJADQ7nr7"
      },
      "source": [
        "## 2. Logistic Regression Classification"
      ]
    },
    {
      "cell_type": "code",
      "metadata": {
        "id": "oTUQrGna7kk3",
        "colab": {
          "base_uri": "https://localhost:8080/"
        },
        "outputId": "230c5bbd-5fd9-4d6c-a8cd-dd7778a70f7d"
      },
      "source": [
        "lr = LogisticRegression(solver=\"liblinear\")\n",
        "lr.fit(x_train,y_train)\n",
        "print(\"Test Accuracy: {}%\".format(round(lr.score(x_test,y_test)*100,2)))\n",
        "\n"
      ],
      "execution_count": 109,
      "outputs": [
        {
          "output_type": "stream",
          "name": "stdout",
          "text": [
            "Test Accuracy: 94.65%\n"
          ]
        }
      ]
    },
    {
      "cell_type": "code",
      "metadata": {
        "colab": {
          "base_uri": "https://localhost:8080/"
        },
        "id": "dPa5RvO6M-R0",
        "outputId": "3e15f2c0-9ee9-4783-9fb5-c934b8e86538"
      },
      "source": [
        "y_pred_lr = lr.predict(x_test)\n",
        "print(\"Logistic Regression Classifier report: \\n\\n\", classification_report(y_test, y_pred_lr))\n",
        "print(\"ACCURACY:\",accuracy_score(y_test, y_pred_lr))\n",
        "print(\"RECALL:\",recall_score(y_test, y_pred_lr, average=\"binary\"))"
      ],
      "execution_count": 112,
      "outputs": [
        {
          "output_type": "stream",
          "name": "stdout",
          "text": [
            "Logistic Regression Classifier report: \n",
            "\n",
            "               precision    recall  f1-score   support\n",
            "\n",
            "           0       0.95      0.95      0.95       843\n",
            "           1       0.94      0.95      0.94       782\n",
            "\n",
            "    accuracy                           0.95      1625\n",
            "   macro avg       0.95      0.95      0.95      1625\n",
            "weighted avg       0.95      0.95      0.95      1625\n",
            "\n",
            "ACCURACY: 0.9464615384615385\n",
            "RECALL: 0.9462915601023018\n"
          ]
        }
      ]
    },
    {
      "cell_type": "code",
      "metadata": {
        "colab": {
          "base_uri": "https://localhost:8080/",
          "height": 253
        },
        "id": "ZVy3Tz5WNUEL",
        "outputId": "3d46e9d6-97c3-440d-a4a6-5ca337807228"
      },
      "source": [
        "cm = confusion_matrix(y_test, y_pred_lr)\n",
        "x_axis_labels = [\"Edible\", \"Poisonous\"]\n",
        "y_axis_labels = [\"Edible\", \"Poisonous\"]\n",
        "f, ax = plt.subplots(figsize =(7,7))\n",
        "sns.heatmap(cm/np.sum(cm), annot=True, fmt='.2%', cmap='Greens', xticklabels=x_axis_labels, yticklabels=y_axis_labels)\n",
        "plt.xlabel(\"PREDICTED LABEL\")\n",
        "plt.ylabel(\"TRUE LABEL\")\n",
        "plt.title('Confusion Matrix for Logistic Regression Classifier')\n",
        "#plt.savefig(\"lrcm.png\", format='png', dpi=500, bbox_inches='tight')\n",
        "plt.show()"
      ],
      "execution_count": 111,
      "outputs": [
        {
          "output_type": "error",
          "ename": "NameError",
          "evalue": "ignored",
          "traceback": [
            "\u001b[0;31m---------------------------------------------------------------------------\u001b[0m",
            "\u001b[0;31mNameError\u001b[0m                                 Traceback (most recent call last)",
            "\u001b[0;32m<ipython-input-111-f4345caf7d23>\u001b[0m in \u001b[0;36m<module>\u001b[0;34m()\u001b[0m\n\u001b[0;32m----> 1\u001b[0;31m \u001b[0mcm\u001b[0m \u001b[0;34m=\u001b[0m \u001b[0mconfusion_matrix\u001b[0m\u001b[0;34m(\u001b[0m\u001b[0my_test\u001b[0m\u001b[0;34m,\u001b[0m \u001b[0my_pred_lr\u001b[0m\u001b[0;34m)\u001b[0m\u001b[0;34m\u001b[0m\u001b[0;34m\u001b[0m\u001b[0m\n\u001b[0m\u001b[1;32m      2\u001b[0m \u001b[0mx_axis_labels\u001b[0m \u001b[0;34m=\u001b[0m \u001b[0;34m[\u001b[0m\u001b[0;34m\"Edible\"\u001b[0m\u001b[0;34m,\u001b[0m \u001b[0;34m\"Poisonous\"\u001b[0m\u001b[0;34m]\u001b[0m\u001b[0;34m\u001b[0m\u001b[0;34m\u001b[0m\u001b[0m\n\u001b[1;32m      3\u001b[0m \u001b[0my_axis_labels\u001b[0m \u001b[0;34m=\u001b[0m \u001b[0;34m[\u001b[0m\u001b[0;34m\"Edible\"\u001b[0m\u001b[0;34m,\u001b[0m \u001b[0;34m\"Poisonous\"\u001b[0m\u001b[0;34m]\u001b[0m\u001b[0;34m\u001b[0m\u001b[0;34m\u001b[0m\u001b[0m\n\u001b[1;32m      4\u001b[0m \u001b[0mf\u001b[0m\u001b[0;34m,\u001b[0m \u001b[0max\u001b[0m \u001b[0;34m=\u001b[0m \u001b[0mplt\u001b[0m\u001b[0;34m.\u001b[0m\u001b[0msubplots\u001b[0m\u001b[0;34m(\u001b[0m\u001b[0mfigsize\u001b[0m \u001b[0;34m=\u001b[0m\u001b[0;34m(\u001b[0m\u001b[0;36m7\u001b[0m\u001b[0;34m,\u001b[0m\u001b[0;36m7\u001b[0m\u001b[0;34m)\u001b[0m\u001b[0;34m)\u001b[0m\u001b[0;34m\u001b[0m\u001b[0;34m\u001b[0m\u001b[0m\n\u001b[1;32m      5\u001b[0m \u001b[0msns\u001b[0m\u001b[0;34m.\u001b[0m\u001b[0mheatmap\u001b[0m\u001b[0;34m(\u001b[0m\u001b[0mcm\u001b[0m\u001b[0;34m/\u001b[0m\u001b[0mnp\u001b[0m\u001b[0;34m.\u001b[0m\u001b[0msum\u001b[0m\u001b[0;34m(\u001b[0m\u001b[0mcm\u001b[0m\u001b[0;34m)\u001b[0m\u001b[0;34m,\u001b[0m \u001b[0mannot\u001b[0m\u001b[0;34m=\u001b[0m\u001b[0;32mTrue\u001b[0m\u001b[0;34m,\u001b[0m \u001b[0mfmt\u001b[0m\u001b[0;34m=\u001b[0m\u001b[0;34m'.2%'\u001b[0m\u001b[0;34m,\u001b[0m \u001b[0mcmap\u001b[0m\u001b[0;34m=\u001b[0m\u001b[0;34m'Greens'\u001b[0m\u001b[0;34m,\u001b[0m \u001b[0mxticklabels\u001b[0m\u001b[0;34m=\u001b[0m\u001b[0mx_axis_labels\u001b[0m\u001b[0;34m,\u001b[0m \u001b[0myticklabels\u001b[0m\u001b[0;34m=\u001b[0m\u001b[0my_axis_labels\u001b[0m\u001b[0;34m)\u001b[0m\u001b[0;34m\u001b[0m\u001b[0;34m\u001b[0m\u001b[0m\n",
            "\u001b[0;31mNameError\u001b[0m: name 'y_pred_lr' is not defined"
          ]
        }
      ]
    },
    {
      "cell_type": "code",
      "metadata": {
        "id": "OzWSab_WsvDg"
      },
      "source": [
        "roc_curve_acc(y_test, y_pred_lr, \"Gaussian Logistic Regression \")"
      ],
      "execution_count": null,
      "outputs": []
    },
    {
      "cell_type": "markdown",
      "metadata": {
        "id": "pufuNy6p8Yxs"
      },
      "source": [
        "## 3. KNN Classification\n"
      ]
    },
    {
      "cell_type": "code",
      "metadata": {
        "id": "4FtSK9ot8L78"
      },
      "source": [
        "best_Kvalue = 0\n",
        "best_score = 0\n",
        "\n",
        "for i in range(1,10):\n",
        "    knn = KNeighborsClassifier(n_neighbors=i)\n",
        "    knn.fit(x_train,y_train)\n",
        "    if knn.score(x_test,y_test) > best_score:\n",
        "        best_score = knn.score(x_train,y_train)\n",
        "        best_Kvalue = i\n",
        "\n",
        "print(\"\"\"Best KNN Value: {}\n",
        "Test Accuracy: {}%\"\"\".format(best_Kvalue, round(best_score*100,2)))"
      ],
      "execution_count": null,
      "outputs": []
    },
    {
      "cell_type": "code",
      "metadata": {
        "id": "jO0dSFTRN8aB"
      },
      "source": [
        "y_pred_knn = knn.predict(x_test)\n",
        "print(\"KNN Classifier report: \\n\\n\", classification_report(y_test, y_pred_knn))\n",
        "print(\"ACCURACY:\",accuracy_score(y_test, y_pred_knn))\n",
        "print(\"RECALL:\",recall_score(y_test, y_pred_knn, average=\"binary\"))"
      ],
      "execution_count": null,
      "outputs": []
    },
    {
      "cell_type": "code",
      "metadata": {
        "id": "8FqxRuccOHm0"
      },
      "source": [
        "cm = confusion_matrix(y_test, y_pred_knn)\n",
        "x_axis_labels = [\"Edible\", \"Poisonous\"]\n",
        "y_axis_labels = [\"Edible\", \"Poisonous\"]\n",
        "f, ax = plt.subplots(figsize =(7,7))\n",
        "sns.heatmap(cm/np.sum(cm), annot=True, fmt='.2%', cmap='Greens', xticklabels=x_axis_labels, yticklabels=y_axis_labels)\n",
        "plt.xlabel(\"PREDICTED LABEL\")\n",
        "plt.ylabel(\"TRUE LABEL\")\n",
        "plt.title('Confusion Matrix for KNN Classifier')\n",
        "#plt.savefig(\"knncm.png\", format='png', dpi=500, bbox_inches='tight')\n",
        "plt.show()"
      ],
      "execution_count": null,
      "outputs": []
    },
    {
      "cell_type": "code",
      "metadata": {
        "id": "TB6atN_As_T-"
      },
      "source": [
        "roc_curve_acc(y_test, y_pred_knn, \"Gaussian KNN \")"
      ],
      "execution_count": null,
      "outputs": []
    },
    {
      "cell_type": "markdown",
      "metadata": {
        "id": "TUVykrRv9Du0"
      },
      "source": [
        "## 4. SVM Classification"
      ]
    },
    {
      "cell_type": "code",
      "metadata": {
        "id": "IFX6p38ulquD"
      },
      "source": [
        "# SVM model\n",
        "svm = SVC(random_state=3, probability=True)\n",
        "svm.fit(x_train,y_train)\n",
        "print(\"svm Train score : \",svm.score(x_test,y_test))\n",
        "print(\"svm Test score: \",svm.score(x_test,y_test))\n",
        "y_pred_svm = svm.predict(x_test)\n",
        "recall= recall_score(y_test, y_pred_svm, average=\"binary\")\n"
      ],
      "execution_count": null,
      "outputs": []
    },
    {
      "cell_type": "code",
      "metadata": {
        "id": "oq3McVNaoAIg"
      },
      "source": [
        "# classification report for SVM\n",
        "print(classification_report(y_test, y_pred_svm, digits=3, zero_division = 1))\n",
        "acc_svm = accuracy_score(y_test, y_pred_svm)\n",
        "recall_svm = recall_score(y_test, y_pred_svm, average=\"binary\")\n",
        "print(\"ACCURACY:\",accuracy_score(y_test, y_pred_svm))\n",
        "print(\"RECALL:\",recall_score(y_test, y_pred_svm, average=\"binary\"))"
      ],
      "execution_count": null,
      "outputs": []
    },
    {
      "cell_type": "code",
      "metadata": {
        "id": "26PEPpTuopn3"
      },
      "source": [
        "cm = confusion_matrix(y_test, y_pred_svm)\n",
        "x_axis_labels = [\"Edible\", \"Poisonous\"]\n",
        "y_axis_labels = [\"Edible\", \"Poisonous\"]\n",
        "f, ax = plt.subplots(figsize =(7,7))\n",
        "sns.heatmap(cm/np.sum(cm), annot=True, fmt='.2%', cmap='Greens', xticklabels=x_axis_labels, yticklabels=y_axis_labels)\n",
        "plt.xlabel(\"PREDICTED LABEL\")\n",
        "plt.ylabel(\"TRUE LABEL\")\n",
        "plt.title('Confusion Matrix for SVM Classifier')\n",
        "#plt.savefig(\"svmcm.png\", format='png', dpi=500, bbox_inches='tight')\n",
        "plt.show()"
      ],
      "execution_count": null,
      "outputs": []
    },
    {
      "cell_type": "code",
      "metadata": {
        "id": "EAI_tZ3YqYou"
      },
      "source": [
        "roc_curve_acc(y_test, y_pred_svm, \"Gaussian SVM \")"
      ],
      "execution_count": null,
      "outputs": []
    },
    {
      "cell_type": "markdown",
      "metadata": {
        "id": "9QIxDkx_9mrh"
      },
      "source": [
        "## 5. Naive Bayes Classification"
      ]
    },
    {
      "cell_type": "code",
      "metadata": {
        "id": "jVGQoX0j9cOf"
      },
      "source": [
        "nb = GaussianNB()\n",
        "nb.fit(x_train,y_train)\n",
        "print(\"Test Accuracy: {}%\".format(round(nb.score(x_test,y_test)*100,2)))"
      ],
      "execution_count": null,
      "outputs": []
    },
    {
      "cell_type": "code",
      "metadata": {
        "id": "EtGQBt05OsIg"
      },
      "source": [
        "y_pred_nb = nb.predict(x_test)\n",
        "print(\"Naive Bayes Classifier report: \\n\\n\", classification_report(y_test, y_pred_nb))\n",
        "print(\"ACCURACY:\",accuracy_score(y_test, y_pred_nb))\n",
        "print(\"RECALL:\",recall_score(y_test, y_pred_nb, average=\"binary\"))"
      ],
      "execution_count": null,
      "outputs": []
    },
    {
      "cell_type": "code",
      "metadata": {
        "id": "lR20tRiyOyTb"
      },
      "source": [
        "cm = confusion_matrix(y_test, y_pred_nb)\n",
        "x_axis_labels = [\"Edible\", \"Poisonous\"]\n",
        "y_axis_labels = [\"Edible\", \"Poisonous\"]\n",
        "f, ax = plt.subplots(figsize =(7,7))\n",
        "sns.heatmap(cm/np.sum(cm), annot=True, fmt='.2%', cmap='Greens', xticklabels=x_axis_labels, yticklabels=y_axis_labels)\n",
        "plt.xlabel(\"PREDICTED LABEL\")\n",
        "plt.ylabel(\"TRUE LABEL\")\n",
        "plt.title('Confusion Matrix for Naive Bayes Classifier')\n",
        "#plt.savefig(\"nbcm.png\", format='png', dpi=500, bbox_inches='tight')\n",
        "plt.show()"
      ],
      "execution_count": null,
      "outputs": []
    },
    {
      "cell_type": "code",
      "metadata": {
        "id": "xm-dkQ26tZ0I"
      },
      "source": [
        "roc_curve_acc(y_test, y_pred_nb, \"Gaussian  Naive Bayes \")"
      ],
      "execution_count": null,
      "outputs": []
    },
    {
      "cell_type": "markdown",
      "metadata": {
        "id": "Xib2_UXVPOAt"
      },
      "source": [
        "## 6. Random Forest Classification"
      ]
    },
    {
      "cell_type": "code",
      "metadata": {
        "id": "OoRB3XlmPVp_"
      },
      "source": [
        "rf = RandomForestClassifier(n_estimators=100, random_state=42)\n",
        "rf.fit(x_train, y_train)\n",
        "print(\"Test Accuracy: {}%\".format(round(rf.score(x_test, y_test)*100, 2)))"
      ],
      "execution_count": null,
      "outputs": []
    },
    {
      "cell_type": "code",
      "metadata": {
        "id": "wD4coyO8QB3P"
      },
      "source": [
        "y_pred_rf = rf.predict(x_test)\n",
        "print(\"Random Forest Classifier report: \\n\\n\", classification_report(y_test, y_pred_rf))\n",
        "print(\"ACCURACY:\",accuracy_score(y_test, y_pred_rf))\n",
        "print(\"RECALL:\",recall_score(y_test, y_pred_rf, average=\"binary\"))"
      ],
      "execution_count": null,
      "outputs": []
    },
    {
      "cell_type": "code",
      "metadata": {
        "id": "ah7aIYwsQHHy"
      },
      "source": [
        "cm = confusion_matrix(y_test, y_pred_rf)\n",
        "x_axis_labels = [\"Edible\", \"Poisonous\"]\n",
        "y_axis_labels = [\"Edible\", \"Poisonous\"]\n",
        "f, ax = plt.subplots(figsize =(7,7))\n",
        "sns.heatmap(cm/np.sum(cm), annot=True, fmt='.2%', cmap='Greens', xticklabels=x_axis_labels, yticklabels=y_axis_labels)\n",
        "plt.xlabel(\"PREDICTED LABEL\")\n",
        "plt.ylabel(\"TRUE LABEL\")\n",
        "plt.title('Confusion Matrix for Random Forest Classifier');\n",
        "#plt.savefig(\"rfcm.png\", format='png', dpi=500, bbox_inches='tight')\n",
        "plt.show()"
      ],
      "execution_count": null,
      "outputs": []
    },
    {
      "cell_type": "code",
      "metadata": {
        "id": "Ua_hj1b6r8P-"
      },
      "source": [
        "roc_curve_acc(y_test, y_pred_rf, \"Gaussian Random Forest\")"
      ],
      "execution_count": null,
      "outputs": []
    },
    {
      "cell_type": "markdown",
      "metadata": {
        "id": "Wm7GO62SIlxZ"
      },
      "source": [
        "\n",
        "## xGBOOST"
      ]
    },
    {
      "cell_type": "code",
      "metadata": {
        "id": "ieiTTe-2Vg5E"
      },
      "source": [
        "xg=XGBClassifier(verbosity=0)\n",
        "xg.fit(x_train,y_train)\n",
        "print(\"Test Accuracy: {}%\".format(round(xg.score(x_test,y_test)*100,2)))"
      ],
      "execution_count": null,
      "outputs": []
    },
    {
      "cell_type": "code",
      "metadata": {
        "id": "vPDehHGGVmsK"
      },
      "source": [
        "y_pred_xg = xg.predict(x_test)\n",
        "print(\"xGBOOST Classifier report: \\n\\n\", classification_report(y_test, y_pred_lr))\n",
        "print(\"ACCURACY:\",accuracy_score(y_test, y_pred_xg))\n",
        "print(\"RECALL:\",recall_score(y_test, y_pred_xg, average=\"binary\"))"
      ],
      "execution_count": null,
      "outputs": []
    },
    {
      "cell_type": "code",
      "metadata": {
        "id": "S12DewBfVv-a"
      },
      "source": [
        "cm = confusion_matrix(y_test, y_pred_xg)\n",
        "x_axis_labels = [\"Edible\", \"Poisonous\"]\n",
        "y_axis_labels = [\"Edible\", \"Poisonous\"]\n",
        "f, ax = plt.subplots(figsize =(7,7))\n",
        "sns.heatmap(cm/np.sum(cm), annot=True, fmt='.2%', cmap='Greens', xticklabels=x_axis_labels, yticklabels=y_axis_labels)\n",
        "plt.xlabel(\"PREDICTED LABEL\")\n",
        "plt.ylabel(\"TRUE LABEL\")\n",
        "plt.title('Confusion Matrix for xGBOOST Classifier')\n",
        "#plt.savefig(\"lrcm.png\", format='png', dpi=500, bbox_inches='tight')\n",
        "plt.show()"
      ],
      "execution_count": null,
      "outputs": []
    },
    {
      "cell_type": "code",
      "metadata": {
        "id": "mBuAnj2tV0RE"
      },
      "source": [
        "roc_curve_acc(y_test, y_pred_xg, \"Gaussian xGBOOST \")"
      ],
      "execution_count": null,
      "outputs": []
    },
    {
      "cell_type": "markdown",
      "metadata": {
        "id": "37AMJUOW8jye"
      },
      "source": [
        "# **Models And ROC** \n"
      ]
    },
    {
      "cell_type": "code",
      "metadata": {
        "id": "a76e9jcZDQol"
      },
      "source": [
        "def evaluate_model(model, x_test, y_test):\n",
        "    from sklearn import metrics\n",
        "\n",
        "    # Predict Test Data \n",
        "    y_pred = model.predict(x_test)\n",
        "\n",
        "    # Calculate accuracy, precision, recall, f1-score, and kappa score\n",
        "    acc = metrics.accuracy_score(y_test, y_pred)\n",
        "    prec = metrics.precision_score(y_test, y_pred)\n",
        "    rec = metrics.recall_score(y_test, y_pred)\n",
        "    f1 = metrics.f1_score(y_test, y_pred)\n",
        "    kappa = metrics.cohen_kappa_score(y_test, y_pred)\n",
        "\n",
        "    # Calculate area under curve (AUC)\n",
        "    y_pred_proba = model.predict_proba(x_test)[::,1]\n",
        "    fpr, tpr, _ = metrics.roc_curve(y_test, y_pred_proba)\n",
        "    auc = metrics.roc_auc_score(y_test, y_pred_proba)\n",
        "\n",
        "    # Display confussion matrix\n",
        "    cm = metrics.confusion_matrix(y_test, y_pred)\n",
        "\n",
        "    return {'acc': acc, 'prec': prec, 'rec': rec, 'f1': f1, 'kappa': kappa, \n",
        "            'fpr': fpr, 'tpr': tpr, 'auc': auc, 'cm': cm}"
      ],
      "execution_count": null,
      "outputs": []
    },
    {
      "cell_type": "code",
      "metadata": {
        "id": "LA25xWXYDZxl"
      },
      "source": [
        "lg_eval = evaluate_model(lr, x_test, y_test)\n",
        "knn_eval = evaluate_model(knn, x_test, y_test)\n",
        "nb_eval = evaluate_model(nb, x_test, y_test)\n",
        "dt_eval = evaluate_model(dt, x_test, y_test)\n",
        "svm_eval = evaluate_model(svm, x_test, y_test)\n",
        "xg_eval = evaluate_model(xg, x_test, y_test)\n",
        "\n"
      ],
      "execution_count": null,
      "outputs": []
    },
    {
      "cell_type": "code",
      "metadata": {
        "id": "u_C0nyidEqca"
      },
      "source": [
        "# Intitialize figure with two plots\n",
        "fig, (ax1, ax2) = plt.subplots(1, 2)\n",
        "fig.suptitle('Model Comparison', fontsize=16, fontweight='bold')\n",
        "fig.set_figheight(10)\n",
        "fig.set_figwidth(28)\n",
        "fig.set_facecolor('white')\n",
        "\n",
        "\n",
        "\n",
        "# First plot\n",
        "## set bar size\n",
        "barWidth = 0.127\n",
        "lg_score = [lg_eval['acc'], lg_eval['prec'], lg_eval['rec'], lg_eval['f1'], lg_eval['kappa']]\n",
        "knn_score = [knn_eval['acc'], knn_eval['prec'], knn_eval['rec'], knn_eval['f1'], knn_eval['kappa']]\n",
        "nb_score = [nb_eval['acc'], nb_eval['prec'], nb_eval['rec'], nb_eval['f1'], nb_eval['kappa']]\n",
        "dt_score = [dt_eval['acc'], dt_eval['prec'], dt_eval['rec'], dt_eval['f1'], dt_eval['kappa']]\n",
        "svm_score = [svm_eval['acc'], svm_eval['prec'], svm_eval['rec'], svm_eval['f1'], svm_eval['kappa']]\n",
        "xg_score = [xg_eval['acc'], xg_eval['prec'], xg_eval['rec'], xg_eval['f1'], xg_eval['kappa']]\n",
        "\n",
        "\n",
        "\n",
        "## Set position of bar on X axis\n",
        "r1 = np.arange(len(lg_score))\n",
        "r2 = [x + barWidth for x in r1]\n",
        "r3 = [x + barWidth for x in r2]\n",
        "r4 = [x + barWidth for x in r3]\n",
        "r5 = [x + barWidth for x in r4]\n",
        "r6 = [x + barWidth for x in r5]\n",
        "r7 = [x + barWidth for x in r6]\n",
        "\n",
        "\n",
        "## Make the plot\n",
        "ax1.bar(r1, lg_score, width=barWidth, edgecolor='white', label='Logistic Regression')\n",
        "ax1.bar(r2, knn_score, width=barWidth, edgecolor='white', label='KNN')\n",
        "ax1.bar(r3, nb_score, width=barWidth, edgecolor='white', label='Naive Bayes')\n",
        "ax1.bar(r4, dt_score, width=barWidth, edgecolor='white', label='Decision Tree')\n",
        "ax1.bar(r5, svm_score, width=barWidth, edgecolor='white', label='SVM')\n",
        "ax1.bar(r6, xg_score, width=barWidth, edgecolor='white', label='xGBOOST')\n",
        "\n",
        "\n",
        "\n",
        "\n",
        "## Configure x and y axis\n",
        "ax1.set_xlabel('Metrics', fontweight='bold')\n",
        "labels = ['Accuracy', 'Precision', 'Recall', 'F1', 'Kappa']\n",
        "ax1.set_xticks([r + (barWidth * 1.5) for r in range(len(lg_score))], )\n",
        "ax1.set_xticklabels(labels)\n",
        "ax1.set_ylabel('Score', fontweight='bold')\n",
        "ax1.set_ylim(0, 1)\n",
        "\n",
        "## Create legend & title\n",
        "ax1.set_title('Evaluation Metrics', fontsize=14, fontweight='bold')\n",
        "ax1.legend()\n",
        "\n",
        "# Second plot\n",
        "## Comparing ROC Curve\n",
        "ax2.plot(lg_eval['fpr'], lg_eval['tpr'], label='Logistic Regression, auc = {:0.5f}'.format(lg_eval['auc']))\n",
        "ax2.plot(knn_eval['fpr'], knn_eval['tpr'], label='KNN, auc = {:0.5f}'.format(knn_eval['auc']))\n",
        "ax2.plot(nb_eval['fpr'], nb_eval['tpr'], label='Naive Bayes, auc = {:0.5f}'.format(nb_eval['auc']))\n",
        "ax2.plot(dt_eval['fpr'], dt_eval['tpr'], label='Decision Tree, auc = {:0.5f}'.format(dt_eval['auc']))\n",
        "ax2.plot(svm_eval['fpr'], svm_eval['tpr'], label='SVM, auc = {:0.5f}'.format(svm_eval['auc']))\n",
        "ax2.plot(xg_eval['fpr'], xg_eval['tpr'], label='xGBOOST, auc = {:0.5f}'.format(xg_eval['auc']))\n",
        "\n",
        "\n",
        "\n",
        "## Configure x and y axis\n",
        "ax2.set_xlabel('False Positive Rate', fontweight='bold')\n",
        "ax2.set_ylabel('True Positive Rate', fontweight='bold')\n",
        "\n",
        "## Create legend & title\n",
        "ax2.set_title('ROC Curve', fontsize=14, fontweight='bold')\n",
        "ax2.legend(loc=4)\n",
        "\n",
        "plt.show()"
      ],
      "execution_count": null,
      "outputs": []
    },
    {
      "cell_type": "markdown",
      "metadata": {
        "id": "QeZoEJhu5mTd"
      },
      "source": [
        "# Summary of models"
      ]
    },
    {
      "cell_type": "code",
      "metadata": {
        "id": "tBn3U4cq5w01"
      },
      "source": [
        "models_list = [dt,\n",
        "               lr,\n",
        "               knn,\n",
        "               svm,\n",
        "               nb,\n",
        "               xg ]\n",
        "\n"
      ],
      "execution_count": null,
      "outputs": []
    },
    {
      "cell_type": "code",
      "metadata": {
        "id": "k_X15Lmy7fWR"
      },
      "source": [
        "models = []\n",
        "accuracies = []\n",
        "precisions = []\n",
        "recalls = []\n",
        "roc_scores = []\n",
        "f1_scores = []\n",
        "from sklearn.metrics import roc_auc_score\n",
        "from sklearn.metrics import accuracy_score, f1_score, precision_score, recall_score, classification_report, confusion_matrix\n",
        "for model in models_list:\n",
        "    \n",
        "    if(model == models_list[-1]):\n",
        "        count_vectorizer = CountVectorizer(ngram_range=(1, 2),  max_df = 0.6)\n",
        "    accuracy = model.score(x_test, y_test)  #get accuracy\n",
        "    y_pred = model.predict(x_test) #get predictions\n",
        "    model_name = type(model).__name__\n",
        "    print(\"Accuracy(\"+ model_name + \"): \", accuracy.round(4)) #display accuracy\n",
        "    print(\"F1 score(\"+ model_name + \"): \", f1_score(y_test,y_pred).round(4)) #display F1\n",
        "    print(\"Precision(\"+ model_name + \"): \", precision_score(y_test,y_pred).round(4)) #display precision\n",
        "    print(\"Recall(\"+ model_name + \"): \",recall_score(y_test,y_pred).round(4)) #display recall\n",
        "    print(\"ROC Score(\"+ model_name + \"): \",roc_auc_score(y_test,y_pred).round(4)) #display recall\n",
        "    \n",
        "    print(\"\\n\")\n",
        "    models.append(model_name)\n",
        "    accuracies.append(accuracy.round(4))\n",
        "    f1_scores.append(f1_score(y_test,y_pred).round(4))\n",
        "    precisions.append(precision_score(y_test,y_pred).round(4))\n",
        "    recalls.append(recall_score(y_test,y_pred).round(4))\n",
        "    roc_scores.append(roc_auc_score(y_test,y_pred).round(4))\n",
        "\n"
      ],
      "execution_count": null,
      "outputs": []
    },
    {
      "cell_type": "code",
      "metadata": {
        "id": "YCaAly7nFj-4"
      },
      "source": [
        "results = pd.DataFrame({\"Model\" : models, \"Accuracy\" : accuracies,\"F1\" : f1_scores, \"Precision\" : precisions, \"Recall\" : recalls, 'ROC Score' :roc_scores})\n",
        "results"
      ],
      "execution_count": null,
      "outputs": []
    },
    {
      "cell_type": "markdown",
      "metadata": {
        "id": "tBj8-CODQVl4"
      },
      "source": [
        "# Predictions\n",
        "Predicting some of the X_test results and matching it with true i.e. y_test values using Decision Tree Classifier."
      ]
    },
    {
      "cell_type": "code",
      "metadata": {
        "id": "n5Yd5EbVQmwH"
      },
      "source": [
        "preds = dt.predict(x_test)\n",
        "print(preds[:36])\n",
        "print(y_test[:36])\n",
        "\n",
        "# 0 - Edible\n",
        "# 1 - Poisonous"
      ],
      "execution_count": null,
      "outputs": []
    },
    {
      "cell_type": "markdown",
      "metadata": {
        "id": "iSATUst_VmyQ"
      },
      "source": [
        "## As we can see, the predicted and the true values match 100%."
      ]
    },
    {
      "cell_type": "markdown",
      "metadata": {
        "id": "3C6uqU7TWMzw"
      },
      "source": [
        "# Conclusion\n",
        "From the confusion matrix, we saw that our train and test data is balanced.\n",
        "Most of the classification methods hit 100% accuracy with this dataset.\n",
        "Woohoo! Congratulations!!!\n",
        "We can now eat healthy mushrooms!!\n",
        "YAY!"
      ]
    },
    {
      "cell_type": "markdown",
      "metadata": {
        "id": "4UU7MUfGVVtx"
      },
      "source": [
        "![giphy.gif](data:image/gif;base64,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)"
      ]
    }
  ]
}